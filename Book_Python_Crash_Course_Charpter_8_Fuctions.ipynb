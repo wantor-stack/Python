{
 "cells": [
  {
   "cell_type": "markdown",
   "metadata": {},
   "source": [
    "# Book: Python Crash Course - Chapter 8 - Functions"
   ]
  },
  {
   "cell_type": "markdown",
   "metadata": {},
   "source": [
    "# Resume and Exercises"
   ]
  },
  {
   "cell_type": "code",
   "execution_count": 1,
   "metadata": {},
   "outputs": [
    {
     "name": "stdout",
     "output_type": "stream",
     "text": [
      "Hello!\n"
     ]
    }
   ],
   "source": [
    "# Defining a Function\n",
    "\n",
    "def greet_user():\n",
    "    \"\"\"Display a simple greeting.\"\"\"\n",
    "    print(\"Hello!\")\n",
    "\n",
    "greet_user()"
   ]
  },
  {
   "cell_type": "code",
   "execution_count": 3,
   "metadata": {},
   "outputs": [
    {
     "name": "stdout",
     "output_type": "stream",
     "text": [
      "Hello, Jesse!\n"
     ]
    }
   ],
   "source": [
    "#Passing Information to a Function\n",
    "\n",
    "def greet_user(username):\n",
    "    \"\"\"Display a simple greeting.\"\"\"\n",
    "    print(f\"Hello, {username.title()}!\")\n",
    "\n",
    "greet_user('jesse')"
   ]
  },
  {
   "cell_type": "markdown",
   "metadata": {},
   "source": [
    "# Exercises"
   ]
  },
  {
   "cell_type": "code",
   "execution_count": 17,
   "metadata": {},
   "outputs": [
    {
     "name": "stdout",
     "output_type": "stream",
     "text": [
      "I'm learning function in Python\n"
     ]
    }
   ],
   "source": [
    "\"\"\"Exercise 8-1. Message: Write a function called display_message() that prints \n",
    "one sentence telling everyone what you are learning about in this chapter. \n",
    "Call the function, and make sure the message displays correctly. \"\"\"\n",
    "\n",
    "def display_message():\n",
    "    print(\"I'm learning function in Python\")\n",
    "\n",
    "display_message()"
   ]
  },
  {
   "cell_type": "code",
   "execution_count": 19,
   "metadata": {},
   "outputs": [
    {
     "name": "stdout",
     "output_type": "stream",
     "text": [
      "\n",
      "One of my favourite books is The Miracle Morning.\n"
     ]
    }
   ],
   "source": [
    "'''8-2. Favorite Book: Write a function called favorite_book() that accepts one parameter, title. \n",
    "The function should print a message, such as One of my favorite books is Alice in Wonderland. \n",
    "Call the function, making sure to include a book title as an argument in the function call.'''\n",
    "\n",
    "def favorite_book(title):\n",
    "    print(f\"\\nOne of my favourite books is {title}.\")\n",
    "\n",
    "favorite_book(\"The Miracle Morning\")"
   ]
  },
  {
   "cell_type": "markdown",
   "metadata": {},
   "source": [
    "---"
   ]
  },
  {
   "cell_type": "code",
   "execution_count": 5,
   "metadata": {},
   "outputs": [
    {
     "name": "stdout",
     "output_type": "stream",
     "text": [
      "\n",
      "I have a hamster.\n",
      "My hamster's name is Harry.\n",
      "\n",
      "I have a dog.\n",
      "My dog's name is Willie.\n"
     ]
    }
   ],
   "source": [
    "#Positional Arguments\n",
    "\n",
    "def describe_pet(animal_type, pet_name):\n",
    "       \"\"\"Display information about a pet.\"\"\"\n",
    "       print(f\"\\nI have a {animal_type}.\")\n",
    "       print(f\"My {animal_type}'s name is {pet_name.title()}.\")\n",
    "\n",
    "describe_pet('hamster', 'harry')\n",
    "describe_pet('dog', 'willie')\n"
   ]
  },
  {
   "cell_type": "code",
   "execution_count": 6,
   "metadata": {},
   "outputs": [
    {
     "name": "stdout",
     "output_type": "stream",
     "text": [
      "\n",
      "I have a harry.\n",
      "My harry's name is Hamster.\n"
     ]
    }
   ],
   "source": [
    "#Order Matters in Positional Arguments\n",
    "\n",
    "describe_pet('harry', 'hamster')"
   ]
  },
  {
   "cell_type": "code",
   "execution_count": 7,
   "metadata": {},
   "outputs": [
    {
     "name": "stdout",
     "output_type": "stream",
     "text": [
      "\n",
      "I have a hamster.\n",
      "My hamster's name is Harry.\n"
     ]
    }
   ],
   "source": [
    "#Keyword Arguments\n",
    "\n",
    "describe_pet(animal_type='hamster', pet_name='harry')"
   ]
  },
  {
   "cell_type": "code",
   "execution_count": 8,
   "metadata": {},
   "outputs": [
    {
     "name": "stdout",
     "output_type": "stream",
     "text": [
      "\n",
      "I have a hamster.\n",
      "My hamster's name is Harry.\n",
      "\n",
      "I have a hamster.\n",
      "My hamster's name is Harry.\n"
     ]
    }
   ],
   "source": [
    "#The order of keyword arguments doesn’t matter because Python knows where each value should go.\n",
    "\n",
    "describe_pet(animal_type='hamster', pet_name='harry')\n",
    "describe_pet(pet_name='harry', animal_type='hamster')"
   ]
  },
  {
   "cell_type": "code",
   "execution_count": 11,
   "metadata": {},
   "outputs": [
    {
     "name": "stdout",
     "output_type": "stream",
     "text": [
      "\n",
      "I have a dog.\n",
      "My dog's name is Willie.\n"
     ]
    }
   ],
   "source": [
    "#Default Values - Python knows to use the value 'dog' for this parameter:\n",
    "\n",
    "def describe2_pet(pet_name, animal_type='dog'):\n",
    "    \"\"\"Display information about a pet.\"\"\"\n",
    "    print(f\"\\nI have a {animal_type}.\")\n",
    "    print(f\"My {animal_type}'s name is {pet_name.title()}.\")\n",
    "\n",
    "describe2_pet(pet_name='willie')"
   ]
  },
  {
   "cell_type": "code",
   "execution_count": 12,
   "metadata": {},
   "outputs": [
    {
     "name": "stdout",
     "output_type": "stream",
     "text": [
      "\n",
      "I have a dog.\n",
      "My dog's name is Willie.\n"
     ]
    }
   ],
   "source": [
    "#The simplest way to use this function now is to provide just a dog’s name in the function call:\n",
    "\n",
    "describe2_pet('willie')"
   ]
  },
  {
   "cell_type": "code",
   "execution_count": 14,
   "metadata": {},
   "outputs": [
    {
     "name": "stdout",
     "output_type": "stream",
     "text": [
      "\n",
      "I have a hamster.\n",
      "My hamster's name is Harry.\n"
     ]
    }
   ],
   "source": [
    "#To describe an animal other than a dog, you could use a function call like this:\n",
    "\n",
    "describe2_pet(pet_name='harry', animal_type='hamster')"
   ]
  },
  {
   "cell_type": "code",
   "execution_count": 15,
   "metadata": {
    "scrolled": true
   },
   "outputs": [
    {
     "name": "stdout",
     "output_type": "stream",
     "text": [
      "\n",
      "I have a dog.\n",
      "My dog's name is Willie.\n",
      "\n",
      "I have a dog.\n",
      "My dog's name is Willie.\n",
      "\n",
      "I have a hamster.\n",
      "My hamster's name is Harry.\n",
      "\n",
      "I have a hamster.\n",
      "My hamster's name is Harry.\n",
      "\n",
      "I have a hamster.\n",
      "My hamster's name is Harry.\n"
     ]
    }
   ],
   "source": [
    "#All of the following calls would work for this function:\n",
    "\n",
    "# A dog named Willie.\n",
    "describe2_pet('willie')\n",
    "describe2_pet(pet_name='willie')\n",
    "\n",
    "# A hamster named Harry.\n",
    "describe2_pet('harry', 'hamster')\n",
    "describe2_pet(pet_name='harry', animal_type='hamster')\n",
    "describe2_pet(animal_type='hamster', pet_name='harry')"
   ]
  },
  {
   "cell_type": "markdown",
   "metadata": {},
   "source": [
    "# Exercises"
   ]
  },
  {
   "cell_type": "code",
   "execution_count": 32,
   "metadata": {},
   "outputs": [
    {
     "name": "stdout",
     "output_type": "stream",
     "text": [
      "\n",
      "T-shirt M \n",
      "Message: Life\n",
      "\n",
      "T-shirt L \n",
      "Message: BELIEVE\n"
     ]
    }
   ],
   "source": [
    "'''8-3. T-Shirt: Write a function called make_shirt() that accepts a size and \n",
    "the text of a message that should be printed on the shirt. \n",
    "The function should print a sentence summarizing the size of the shirt and the message printed on it.\n",
    "Call the function once using positional arguments to make a shirt. Call the function a second time using keyword arguments.'''\n",
    "\n",
    "def make_shirt(size, message):\n",
    "    print(f'\\nT-shirt {size} \\nMessage: {message}')\n",
    "\n",
    "make_shirt('M', 'Life')\n",
    "make_shirt(size='L', message='BELIEVE')"
   ]
  },
  {
   "cell_type": "code",
   "execution_count": 38,
   "metadata": {},
   "outputs": [
    {
     "name": "stdout",
     "output_type": "stream",
     "text": [
      "\n",
      "T-shirt Large \n",
      "Message: I love Python\n",
      "\n",
      "T-shirt medium \n",
      "Message: I love Python\n",
      "\n",
      "T-shirt Small \n",
      "Message: I love Data Science\n"
     ]
    }
   ],
   "source": [
    "'''8-4. Large Shirts: Modify the make_shirt() function so that shirts are large by default \n",
    "with a message that reads I love Python. Make a large shirt and a medium shirt with the default message, \n",
    "and a shirt of any size with a different message.'''\n",
    "\n",
    "def make_shirt(size = 'Large', message = 'I love Python'):\n",
    "    print(f'\\nT-shirt {size} \\nMessage: {message}')\n",
    "    \n",
    "make_shirt()\n",
    "make_shirt('medium')\n",
    "\n",
    "make_shirt('Small',\n",
    "           'I love Data Science')"
   ]
  },
  {
   "cell_type": "code",
   "execution_count": 41,
   "metadata": {},
   "outputs": [
    {
     "name": "stdout",
     "output_type": "stream",
     "text": [
      "Buenos Aires is in Brasil\n",
      "Brasilia is in Brasil\n",
      "Rio de Janeiro is in Brasil\n"
     ]
    }
   ],
   "source": [
    "'''8-5. Cities: Write a function called describe_city() that accepts the name of a city and its country. \n",
    "The function should print a simple sentence, such as Reykjavik is in Iceland. \n",
    "Give the parameter for the country a default value. \n",
    "Call your function for three different cities, at least one of which is not in the default country.'''\n",
    "\n",
    "def describe_city(city, country='Brasil'):\n",
    "    print(f'{city} is in {country}')\n",
    "\n",
    "describe_city('Buenos Aires')\n",
    "describe_city('Brasilia')\n",
    "describe_city('Rio de Janeiro')\n"
   ]
  },
  {
   "cell_type": "markdown",
   "metadata": {},
   "source": [
    "---"
   ]
  },
  {
   "cell_type": "code",
   "execution_count": 45,
   "metadata": {},
   "outputs": [
    {
     "name": "stdout",
     "output_type": "stream",
     "text": [
      "Jimi Hendrix\n"
     ]
    }
   ],
   "source": [
    "#Returning a Simple Value\n",
    "\n",
    "def get_formatted_name(first_name, last_name):\n",
    "    \"\"\"Return a full name, neatly formatted.\"\"\"\n",
    "    full_name = f\"{first_name} {last_name}\"\n",
    "    return full_name.title()\n",
    "\n",
    "musician = get_formatted_name('jimi', 'hendrix')\n",
    "print(musician)"
   ]
  },
  {
   "cell_type": "code",
   "execution_count": 52,
   "metadata": {},
   "outputs": [
    {
     "name": "stdout",
     "output_type": "stream",
     "text": [
      "Jimi Hendrix\n",
      "John Lee Hooker\n"
     ]
    }
   ],
   "source": [
    "#Making an Argument Optional\n",
    "\n",
    "def get_formatted_name(first_name, last_name, middle_name=''):\n",
    "    \"\"\"Return a full name, neatly formatted.\"\"\"\n",
    "    if middle_name:\n",
    "        full_name = f\"{first_name} {middle_name} {last_name}\"\n",
    "    else:\n",
    "        full_name = f\"{first_name} {last_name}\"\n",
    "    return full_name.title()\n",
    "\n",
    "musician = get_formatted_name('jimi', 'hendrix')\n",
    "print(musician)\n",
    "\n",
    "musician = get_formatted_name('john', 'hooker', 'lee')\n",
    "print(musician)"
   ]
  },
  {
   "cell_type": "code",
   "execution_count": 57,
   "metadata": {},
   "outputs": [
    {
     "name": "stdout",
     "output_type": "stream",
     "text": [
      "{'first': 'jimi', 'last': 'hendrix'}\n"
     ]
    }
   ],
   "source": [
    "#Returning a Dictionary\n",
    "\n",
    "def build_person(first_name, last_name):\n",
    "    \"\"\"Return a dictionary of information about a person.\"\"\"\n",
    "    person = {'first': first_name, 'last': last_name}\n",
    "    return person\n",
    "\n",
    "musician = build_person('jimi', 'hendrix')\n",
    "print(musician)"
   ]
  },
  {
   "cell_type": "code",
   "execution_count": null,
   "metadata": {},
   "outputs": [],
   "source": [
    "#It's possible easily extend this function to accept optional values like a middle name, an age, \n",
    "#an occupation, or any other information you want to store about a person.\n",
    "\n",
    "def build_person(first_name, last_name, age=None):\n",
    "    \"\"\"Return a dictionary of information about a person.\"\"\"\n",
    "    person = {'first': first_name, 'last': last_name}\n",
    "    if age:\n",
    "        person['age'] = age\n",
    "    return person\n",
    "\n",
    "musician = build_person('jimi', 'hendrix', age=27)\n",
    "print(musician)"
   ]
  },
  {
   "cell_type": "code",
   "execution_count": 60,
   "metadata": {},
   "outputs": [
    {
     "name": "stdout",
     "output_type": "stream",
     "text": [
      "\n",
      "Please tell me your name:\n",
      "(enter 'q' at any time to quit)\n",
      "First name: Wan\n",
      "Last name: oer\n",
      "\n",
      "Hello, Wan Oer!\n",
      "\n",
      "Please tell me your name:\n",
      "(enter 'q' at any time to quit)\n",
      "First name: wan\n",
      "Last name: oer\n",
      "\n",
      "Hello, Wan Oer!\n",
      "\n",
      "Please tell me your name:\n",
      "(enter 'q' at any time to quit)\n",
      "First name: q\n"
     ]
    }
   ],
   "source": [
    "#Using a Function with a while Loop\n",
    "\n",
    "def get_formatted_name(first_name, last_name):\n",
    "    \"\"\"Return a full name, neatly formatted.\"\"\"\n",
    "    full_name = f\"{first_name} {last_name}\"\n",
    "    return full_name.title()\n",
    "\n",
    "# This is an infinite loop until press 'q'\n",
    "while True:\n",
    "    print(\"\\nPlease tell me your name:\")\n",
    "    print(\"(enter 'q' at any time to quit)\")\n",
    "\n",
    "    f_name = input(\"First name: \")\n",
    "    if f_name == 'q':\n",
    "        break\n",
    "\n",
    "    l_name = input(\"Last name: \")\n",
    "    if l_name == 'q':\n",
    "        break\n",
    "\n",
    "    formatted_name = get_formatted_name(f_name, l_name)\n",
    "    print(f\"\\nHello, {formatted_name}!\")"
   ]
  },
  {
   "cell_type": "markdown",
   "metadata": {},
   "source": [
    "# Exercises"
   ]
  },
  {
   "cell_type": "code",
   "execution_count": 63,
   "metadata": {},
   "outputs": [
    {
     "name": "stdout",
     "output_type": "stream",
     "text": [
      "\"Santiago, Chile\"\n",
      "\"Santiago de Compostela, Spain\"\n",
      "\"Toronto, Canada\"\n"
     ]
    }
   ],
   "source": [
    "'''8-6. City Names: Write a function called city_country() that takes in the name of a city and its country. \n",
    "The function should return a string formatted like this:\n",
    "\"Santiago, Chile\"\n",
    "Call your function with at least three city-country pairs, and print the values that are returned.'''\n",
    "\n",
    "def city_country(city, country):\n",
    "    print(f'\"{city}, {country}\"')\n",
    "\n",
    "city_country('Santiago', 'Chile')\n",
    "city_country('Santiago de Compostela', 'Spain')\n",
    "city_country('Toronto', 'Canada')"
   ]
  },
  {
   "cell_type": "code",
   "execution_count": 67,
   "metadata": {},
   "outputs": [
    {
     "name": "stdout",
     "output_type": "stream",
     "text": [
      "{'artist': 'Michael Jackson', 'title': 'Thriller'} {'artist': 'Pink Floyd', 'title': 'The Dark Side of the Moon'} {'artist': 'AC/DC', 'title': 'Back in Black'} {'artist': 'Led Zeppelin', 'title': 'LedZeppelin IV', 'songs': 8}\n"
     ]
    }
   ],
   "source": [
    "'''8-7. Album: Write a function called make_album() that builds a dictionary describing a music album. \n",
    "The function should take in an artist name and an album title, and it should return a dictionary \n",
    "containing these two pieces of information. Use the function to make three dictionaries representing different albums. \n",
    "Print each return value to show that the dictionaries are storing the album information correctly.\n",
    "Use None to add an optional parameter to make_album() that allows you to store the number of songs on an album. \n",
    "If the calling line includes a value for the number of songs, add that value to the album’s dictionary. \n",
    "Make at least one new function call that includes the number of songs on an album.'''\n",
    "\n",
    "def make_album(artist_name, album_title, songs=None):\n",
    "    \"\"\"Return a dictionary of information about the album.\"\"\"\n",
    "    album = {'artist' : artist_name, 'title': album_title}\n",
    "    if songs:\n",
    "        album['songs'] = songs\n",
    "    return album\n",
    "\n",
    "album1 = make_album('Michael Jackson', 'Thriller')\n",
    "album2 = make_album('Pink Floyd', 'The Dark Side of the Moon')\n",
    "album3 = make_album('AC/DC', 'Back in Black')\n",
    "album4 = make_album('Led Zeppelin', 'LedZeppelin IV', 8)\n",
    "\n",
    "print(album1, album2, album3, album4)"
   ]
  },
  {
   "cell_type": "code",
   "execution_count": 68,
   "metadata": {},
   "outputs": [
    {
     "name": "stdout",
     "output_type": "stream",
     "text": [
      "\n",
      "Please tell me an music album:\n",
      "(enter 'q' at any time to quit)\n",
      "Artist: Michael Jackson\n",
      "Album: Thriller\n",
      "\n",
      "Album Information:\n",
      " {'artist': 'Michael Jackson', 'title': 'Thriller'}!\n",
      "\n",
      "Please tell me an music album:\n",
      "(enter 'q' at any time to quit)\n",
      "Artist: Pink Floyd\n",
      "Album: The Dark Side of The Moon\n",
      "\n",
      "Album Information:\n",
      " {'artist': 'Pink Floyd', 'title': 'The Dark Side of The Moon'}!\n",
      "\n",
      "Please tell me an music album:\n",
      "(enter 'q' at any time to quit)\n",
      "Artist: q\n"
     ]
    }
   ],
   "source": [
    "'''8-8. User Albums: Start with your program from Exercise 8-7. \n",
    "Write a while loop that allows users to enter an album’s artist and title. \n",
    "Once you have that information, call make_album() with the user’s input and print the dictionary that’s created. \n",
    "Be sure to include a quit value in the while loop.'''\n",
    "\n",
    "while True:\n",
    "    print(\"\\nPlease tell me a music album:\")\n",
    "    print(\"(enter 'q' at any time to quit)\")\n",
    "\n",
    "    artist_name = input(\"Artist: \")\n",
    "    if artist_name == 'q':\n",
    "        break\n",
    "\n",
    "    album_title = input(\"Album: \")\n",
    "    if album_title == 'q':\n",
    "        break\n",
    "\n",
    "    album = make_album(artist_name, album_title)\n",
    "    print(f\"\\nAlbum Information:\\n {album}!\")"
   ]
  },
  {
   "cell_type": "markdown",
   "metadata": {},
   "source": [
    "---"
   ]
  },
  {
   "cell_type": "code",
   "execution_count": 70,
   "metadata": {},
   "outputs": [
    {
     "name": "stdout",
     "output_type": "stream",
     "text": [
      "Hello, Hannah!\n",
      "Hello, Ty!\n",
      "Hello, Margot!\n"
     ]
    }
   ],
   "source": [
    "#PASSING A LIST of arguments\n",
    "\n",
    "def greet_users(names):\n",
    "       \"\"\"Print a simple greeting to each user in the list.\"\"\"\n",
    "       for name in names:\n",
    "           msg = f\"Hello, {name.title()}!\"\n",
    "           print(msg)\n",
    "\n",
    "usernames = ['hannah', 'ty', 'margot']\n",
    "greet_users(usernames)"
   ]
  },
  {
   "cell_type": "markdown",
   "metadata": {},
   "source": [
    "### *This program below has the same output as the version without functions, but the code is much more organized. The code that does most of the work has been moved to two separate functions, which makes the main part of the program easier to understand. Look at the body of the program to see how much easier it is to understand what this program is doing:*"
   ]
  },
  {
   "cell_type": "code",
   "execution_count": 71,
   "metadata": {},
   "outputs": [
    {
     "name": "stdout",
     "output_type": "stream",
     "text": [
      "Printing model: dodecahedron\n",
      "Printing model: robot pendant\n",
      "Printing model: phone case\n",
      "\n",
      "The following models have been printed:\n",
      "dodecahedron\n",
      "robot pendant\n",
      "phone case\n"
     ]
    }
   ],
   "source": [
    "#Modifying a List in a Function\n",
    "\n",
    "#Handle printing the designers\n",
    "def print_models(unprinted_designs, completed_models):\n",
    "       \"\"\"\n",
    "       Simulate printing each design, until none are left.\n",
    "       Move each design to completed_models after printing.\n",
    "       \"\"\"\n",
    "       while unprinted_designs:\n",
    "           current_design = unprinted_designs.pop()\n",
    "           print(f\"Printing model: {current_design}\")\n",
    "           completed_models.append(current_design)\n",
    "\n",
    "#summarize the prints that have been made\n",
    "def show_completed_models(completed_models):\n",
    "       \"\"\"Show all the models that were printed.\"\"\"\n",
    "       print(\"\\nThe following models have been printed:\")\n",
    "       for completed_model in completed_models:\n",
    "           print(completed_model)\n",
    "\n",
    "#Lists\n",
    "unprinted_designs = ['phone case', 'robot pendant', 'dodecahedron']\n",
    "completed_models = []\n",
    "\n",
    "#Test\n",
    "print_models(unprinted_designs, completed_models)\n",
    "show_completed_models(completed_models)"
   ]
  },
  {
   "cell_type": "code",
   "execution_count": 76,
   "metadata": {},
   "outputs": [
    {
     "name": "stdout",
     "output_type": "stream",
     "text": [
      "Printing model: dodecahedron\n",
      "Printing model: robot pendant\n",
      "Printing model: phone case\n",
      "['phone case', 'robot pendant', 'dodecahedron']\n"
     ]
    }
   ],
   "source": [
    "# Preventing a Function from Modifying a List\n",
    "#In this case, you can address this issue by passing the function a copy of the list, not the original. \n",
    "#Any changes the function makes to the list will affect only the copy, leaving the original list intact.\n",
    "\n",
    "#You can send a copy of a list to a function like this:\n",
    "#function_name(list_name[:])\n",
    "\n",
    "#The slice notation [:] makes a copy of the list to send to the function. \n",
    "#If we didn’t want to empty the list of unprinted designs in printing_models.py, we could call print_models() like this:\n",
    "\n",
    "unprinted_designs = ['phone case', 'robot pendant', 'dodecahedron']\n",
    "completed_models = []\n",
    "print_models(unprinted_designs[:], completed_models)\n",
    "print(unprinted_designs)"
   ]
  },
  {
   "cell_type": "markdown",
   "metadata": {},
   "source": [
    "# Exercises"
   ]
  },
  {
   "cell_type": "code",
   "execution_count": 79,
   "metadata": {},
   "outputs": [
    {
     "name": "stdout",
     "output_type": "stream",
     "text": [
      "Hello\n",
      "Hi\n",
      "Olá\n",
      "Bonjour\n",
      "Ciao\n"
     ]
    }
   ],
   "source": [
    "#8-9. Messages: Make a list containing a series of short text messages. \n",
    "#Pass the list to a function called show_messages(), which prints each text message.\n",
    "\n",
    "text_messages = ['Hello', 'Hi', 'Olá', 'Bonjour', 'Ciao']\n",
    "\n",
    "def show_messages(messages):\n",
    "    for message in messages:\n",
    "        print(message)\n",
    "\n",
    "show_messages(text_messages)"
   ]
  },
  {
   "cell_type": "code",
   "execution_count": 92,
   "metadata": {},
   "outputs": [
    {
     "name": "stdout",
     "output_type": "stream",
     "text": [
      "Sending message: Ciao\n",
      "Sending message: Bonjour\n",
      "Sending message: Olá\n",
      "Sending message: Hi\n",
      "Sending message: Hello\n",
      "____________________________________________________________________________\n",
      "\n",
      "The following messages have been sent:\n",
      "Ciao\n",
      "Bonjour\n",
      "Olá\n",
      "Hi\n",
      "Hello\n",
      "____________________________________________________________________________\n",
      "[]\n"
     ]
    }
   ],
   "source": [
    "#8-10. Sending Messages: Start with a copy of your program from Exercise 8-9. \n",
    "#Write a function called send_messages() that prints each text message and \n",
    "#moves each message to a new list called sent_messages as it’s printed. \n",
    "#After calling the function, print both of your lists to make sure the messages were moved correctly.\n",
    "\n",
    "def show_messages(messages):\n",
    "    print(\"\\nThe following messages are originals:\")\n",
    "    for message in messages:\n",
    "        print(message)\n",
    "        \n",
    "def send_messages(messages, sent_messages):\n",
    "    while messages:\n",
    "           current_message = messages.pop()\n",
    "           print(f\"Sending message: {current_message}\")\n",
    "           sent_messages.append(current_message)\n",
    "\n",
    "def show_sent_messages(sent_messages):\n",
    "       \"\"\"Show all the models that were printed.\"\"\"\n",
    "       print(\"\\nThe following messages have been sent:\")\n",
    "       for message in sent_messages:\n",
    "           print(message)\n",
    "text_messages = ['Hello', 'Hi', 'Olá', 'Bonjour', 'Ciao']\n",
    "sent_messages =[]\n",
    "\n",
    "send_messages(text_messages, sent_messages)\n",
    "print('____________________________________________________________________________')\n",
    "show_sent_messages(sent_messages)\n",
    "print('____________________________________________________________________________')\n",
    "show_messages(text_messages)"
   ]
  },
  {
   "cell_type": "code",
   "execution_count": 95,
   "metadata": {},
   "outputs": [
    {
     "name": "stdout",
     "output_type": "stream",
     "text": [
      "Sending message: Ciao\n",
      "Sending message: Bonjour\n",
      "Sending message: Olá\n",
      "Sending message: Hi\n",
      "Sending message: Hello\n",
      "____________________________________________________________________________\n",
      "\n",
      "The following messages have been sent:\n",
      "Ciao\n",
      "Bonjour\n",
      "Olá\n",
      "Hi\n",
      "Hello\n",
      "____________________________________________________________________________\n",
      "\n",
      "The following messages are originals:\n",
      "Hello\n",
      "Hi\n",
      "Olá\n",
      "Bonjour\n",
      "Ciao\n"
     ]
    }
   ],
   "source": [
    "# 8-11. Archived Messages: Start with your work from Exercise 8-10. \n",
    "#Call the function send_messages() with a copy of the list of messages. \n",
    "#After calling the function, print both of your lists to show that the original list has retained its messages.\n",
    "text_messages2 = ['Hello', 'Hi', 'Olá', 'Bonjour', 'Ciao']\n",
    "sent_messages2 =[]\n",
    "send_messages(text_messages2[:], sent_messages2)\n",
    "print('____________________________________________________________________________')\n",
    "show_sent_messages(sent_messages2)\n",
    "print('____________________________________________________________________________')\n",
    "show_messages(text_messages2)"
   ]
  },
  {
   "cell_type": "markdown",
   "metadata": {},
   "source": [
    "---"
   ]
  },
  {
   "cell_type": "code",
   "execution_count": 97,
   "metadata": {},
   "outputs": [
    {
     "name": "stdout",
     "output_type": "stream",
     "text": [
      "\n",
      "Making a pizza with the following toppings:\n",
      "- pepperoni\n",
      "\n",
      "Making a pizza with the following toppings:\n",
      "- mushrooms\n",
      "- green peppers\n",
      "- extra cheese\n"
     ]
    }
   ],
   "source": [
    "#PASSING AN ARBITRARY NUMBER OF ARGUMENTS\n",
    "\n",
    "#The asterisk in the parameter name *toppings tells Python to make an empty tuple called toppings \n",
    "#and pack whatever values it receives into this tuple. \n",
    "\n",
    "def make_pizza(*toppings):\n",
    "    print(\"\\nMaking a pizza with the following toppings:\")\n",
    "    for topping in toppings:\n",
    "        print(f\"- {topping}\")\n",
    "\n",
    "make_pizza('pepperoni')\n",
    "make_pizza('mushrooms', 'green peppers', 'extra cheese')"
   ]
  },
  {
   "cell_type": "code",
   "execution_count": 99,
   "metadata": {},
   "outputs": [
    {
     "name": "stdout",
     "output_type": "stream",
     "text": [
      "\n",
      "Making a 16-inch pizza with the following toppings:\n",
      "- pepperoni\n",
      "\n",
      "Making a 12-inch pizza with the following toppings:\n",
      "- mushrooms\n",
      "- green peppers\n",
      "- extra cheese\n"
     ]
    }
   ],
   "source": [
    "#Mixing Positional and Arbitrary Arguments\n",
    "\n",
    "# IMPORTANT: If you want a function to accept several different kinds of arguments, \n",
    "#the parameter that accepts an arbitrary number of arguments must be placed last in the function definition\n",
    "\n",
    "#In the function definition, Python assigns the first value it receives to the parameter size.\n",
    "\n",
    "def make_pizza(size, *toppings):\n",
    "    \"\"\"Summarize the pizza we are about to make.\"\"\"\n",
    "    print(f\"\\nMaking a {size}-inch pizza with the following toppings:\")\n",
    "    for topping in toppings:\n",
    "        print(f\"- {topping}\")\n",
    "\n",
    "make_pizza(16, 'pepperoni')\n",
    "make_pizza(12, 'mushrooms', 'green peppers', 'extra cheese')"
   ]
  },
  {
   "cell_type": "code",
   "execution_count": 105,
   "metadata": {},
   "outputs": [
    {
     "name": "stdout",
     "output_type": "stream",
     "text": [
      "{'location': 'princeton', 'field': 'physics', 'first_name': 'albert', 'last_name': 'einstein'}\n"
     ]
    }
   ],
   "source": [
    "#Using Arbitrary Keyword Arguments\n",
    "\n",
    "#Sometimes you’ll want to accept an arbitrary number of arguments, \n",
    "#but you won’t know ahead of time what kind of information will be passed to the function. \n",
    "#In this case, you can write functions that accept as many key-value pairs as the calling statement provides.\n",
    "\n",
    "#The double asterisks before the parameter **user_info cause Python to create an empty dictionary called user_info \n",
    "#and pack whatever name-value pairs it receives into this dictionary. \n",
    "#Within the function, you can access the key-value pairs in user_info just as you would for any dictionary.\n",
    "\n",
    "def build_profile(first, last, **user_info):\n",
    "    \"\"\"Build a dictionary containing everything we know about a user.\"\"\"\n",
    "    user_info['first_name'] = first\n",
    "    user_info['last_name'] = last\n",
    "    return user_info\n",
    "\n",
    "user_profile = build_profile('albert', 'einstein',\n",
    "                                location='princeton',\n",
    "                                field='physics')\n",
    "print(user_profile)"
   ]
  },
  {
   "cell_type": "markdown",
   "metadata": {},
   "source": [
    "# Exercises"
   ]
  },
  {
   "cell_type": "code",
   "execution_count": 108,
   "metadata": {},
   "outputs": [
    {
     "name": "stdout",
     "output_type": "stream",
     "text": [
      "\n",
      "Ordering a sandwich with the following toppings:\n",
      "- ['peperoni', 'mushroms', 'lettuce', 'cheese']\n",
      "\n",
      "Ordering a sandwich with the following toppings:\n",
      "- peperoni\n",
      "- mushroms\n",
      "- lettuce\n",
      "- cheese\n",
      "\n",
      "Ordering a sandwich with the following toppings:\n",
      "- green peper\n",
      "- ham\n",
      "- double cheese bread\n"
     ]
    }
   ],
   "source": [
    "# 8-12. Sandwiches: Write a function that accepts a list of items a person wants on a sandwich. \n",
    "#The function should have one parameter that collects as many items as the function call provides, \n",
    "#and it should print a summary of the sandwich that’s being ordered. \n",
    "#Call the function three times, using a different number of arguments each time.\n",
    "\n",
    "def order_sandwich(*toppings):\n",
    "    \"\"\"Summarize the pizza we are about to make.\"\"\"\n",
    "    print(f\"\\nOrdering a sandwich with the following toppings:\")\n",
    "    for topping in toppings:\n",
    "        print(f\"- {topping}\")\n",
    "        \n",
    "toppings = ['peperoni', 'mushroms', 'lettuce', 'cheese']\n",
    "order_sandwich(toppings)\n",
    "order_sandwich('peperoni', 'mushroms', 'lettuce', 'cheese')\n",
    "order_sandwich('green peper', 'ham', 'double cheese bread')"
   ]
  },
  {
   "cell_type": "code",
   "execution_count": 109,
   "metadata": {},
   "outputs": [
    {
     "name": "stdout",
     "output_type": "stream",
     "text": [
      "{'location': 'RJ', 'field': 'Data Science', 'profession': 'engineer ', 'team': 'Fluminense', 'first_name': 'Wanderson', 'last_name': 'Torres'}\n"
     ]
    }
   ],
   "source": [
    "#8-13. User Profile: Start with a copy of user_profile.py from page 149. \n",
    "#Build a profile of yourself by calling build_profile(), using your first and last names \n",
    "#and three other key-value pairs that describe you.\n",
    "\n",
    "def build_profile(first, last, **user_info):\n",
    "    \"\"\"Build a dictionary containing everything we know about a user.\"\"\"\n",
    "    user_info['first_name'] = first\n",
    "    user_info['last_name'] = last\n",
    "    return user_info\n",
    "\n",
    "user_profile = build_profile('Wanderson', 'Torres',\n",
    "                                location='RJ',\n",
    "                                field='Data Science',\n",
    "                                profession ='engineer',\n",
    "                                team = 'Fluminense')\n",
    "print(user_profile)\n"
   ]
  },
  {
   "cell_type": "code",
   "execution_count": 111,
   "metadata": {},
   "outputs": [
    {
     "name": "stdout",
     "output_type": "stream",
     "text": [
      "{'color': 'blue', 'tow_package': True, 'manufacturer': 'subaru', 'model_name': 'outback'}\n"
     ]
    }
   ],
   "source": [
    "#8-14. Cars: Write a function that stores information about a car in a dictionary. \n",
    "#The function should always receive a manufacturer and a model name. \n",
    "#It should then accept an arbitrary number of keyword arguments. \n",
    "#Call the function with the required information and two other name-value pairs, such as a color or an optional feature. \n",
    "#Your function should work for a call like this one:\n",
    "\n",
    "#car = make_car('subaru', 'outback', color='blue', tow_package=True)\n",
    "\n",
    "#Print the dictionary that’s returned to make sure all the information was stored correctly.\n",
    "\n",
    "def make_car(manufacturer, model_name, **car_info):\n",
    "    car_info['manufacturer'] = manufacturer\n",
    "    car_info['model_name'] = model_name\n",
    "    return car_info\n",
    "\n",
    "car = make_car('subaru', 'outback', color='blue', tow_package=True)\n",
    "print(car)"
   ]
  },
  {
   "cell_type": "markdown",
   "metadata": {},
   "source": [
    "---"
   ]
  },
  {
   "cell_type": "code",
   "execution_count": 114,
   "metadata": {},
   "outputs": [
    {
     "data": {
      "text/plain": [
       "\"\\npizza.make_pizza(16, 'pepperoni')\\npizza.make_pizza(12, 'mushrooms', 'green peppers', 'extra cheese')\\n\""
      ]
     },
     "execution_count": 114,
     "metadata": {},
     "output_type": "execute_result"
    }
   ],
   "source": [
    "#STORING YOUR FUNCTIONS IN MODULES\n",
    "\n",
    "#Importing an Entire Module\n",
    "\n",
    "#Let's consider I have an archive .py called pizza.py with a function make_pizza() in the same directory that I'm working\n",
    "#pizza.py\n",
    "'''\n",
    "def make_pizza(size, *toppings):\n",
    "    \"\"\"Summarize the pizza we are about to make.\"\"\"\n",
    "    print(f\"\\nMaking a {size}-inch pizza with the following toppings:\")\n",
    "    for topping in toppings:\n",
    "        print(f\"- {topping}\")\n",
    "'''\n",
    "\n",
    "#I'm working in a file called making_pizzas.py\n",
    "#Let's import the module pizza\n",
    "# Now, we can call a function from an imported module, enter the name of the module you imported, pizza, \n",
    "#followed by the name of the function, make_pizza(), separated by a dot.\n",
    "\n",
    "'''\n",
    "pizza.make_pizza(16, 'pepperoni')\n",
    "pizza.make_pizza(12, 'mushrooms', 'green peppers', 'extra cheese')\n",
    "'''"
   ]
  },
  {
   "cell_type": "code",
   "execution_count": 116,
   "metadata": {},
   "outputs": [
    {
     "data": {
      "text/plain": [
       "'from module_name import function_0, function_1, function_2'"
      ]
     },
     "execution_count": 116,
     "metadata": {},
     "output_type": "execute_result"
    }
   ],
   "source": [
    "#Importing Specific Functions\n",
    "#You can also import a specific function from a module. Here’s the general syntax for this approach:\n",
    "\n",
    "'from module_name import function_name'\n",
    "\n",
    "#You can import as many functions as you want from a module by separating each function’s name with a comma:\n",
    "\n",
    "'from module_name import function_0, function_1, function_2'\n"
   ]
  },
  {
   "cell_type": "code",
   "execution_count": 118,
   "metadata": {},
   "outputs": [
    {
     "data": {
      "text/plain": [
       "\"\\nfrom pizza import make_pizza as mp\\n\\nmp(16, 'pepperoni')\\nmp(12, 'mushrooms', 'green peppers', 'extra cheese')\""
      ]
     },
     "execution_count": 118,
     "metadata": {},
     "output_type": "execute_result"
    }
   ],
   "source": [
    "#Using as to Give a Function an Alias\n",
    "\n",
    "'''\n",
    "from pizza import make_pizza as mp\n",
    "\n",
    "mp(16, 'pepperoni')\n",
    "mp(12, 'mushrooms', 'green peppers', 'extra cheese')'''\n",
    "\n",
    "#General sintax:\n",
    "\n",
    "'from module_name import function_name as fn'"
   ]
  },
  {
   "cell_type": "code",
   "execution_count": null,
   "metadata": {},
   "outputs": [],
   "source": [
    "#Using as to Give a Module an Alias\n",
    "\n",
    "'''import pizza as p\n",
    "\n",
    "p.make_pizza(16, 'pepperoni')\n",
    "p.make_pizza(12, 'mushrooms', 'green peppers', 'extra cheese')'''\n",
    "\n",
    "#General sintax:\n",
    "\n",
    "'import module_name as mn'"
   ]
  },
  {
   "cell_type": "code",
   "execution_count": null,
   "metadata": {},
   "outputs": [],
   "source": [
    "#Importing All Functions in a Module\n",
    "\n",
    "'''from pizza import *\n",
    "\n",
    "make_pizza(16, 'pepperoni')\n",
    "make_pizza(12, 'mushrooms', 'green peppers', 'extra cheese')'''\n",
    "\n",
    "#General sintax:\n",
    "\n",
    "'from module_name import * ' "
   ]
  },
  {
   "cell_type": "code",
   "execution_count": null,
   "metadata": {},
   "outputs": [],
   "source": [
    "#STYLING FUNCTIONS\n",
    "\n",
    "# 1 - Functions should have descriptive names, and these names should use lowercase letters and underscores.\n",
    "\n",
    "# 2 - Module names should use these conventions as well.\n",
    "\n",
    "# 3 - Every function should have a comment that explains concisely what the function does.\n",
    "#     This comment should appear immediately after the function definition and use the docstring format.\n",
    "\n",
    "# 4 - If you specify a default value for a parameter, no spaces should be used on either side of the equal sign:\n",
    "\n",
    "      'def function_name(parameter_0, parameter_1='default value')'\n",
    "\n",
    "# 5 - The same convention should be used for keyword arguments in function calls:\n",
    "\n",
    "      'function_name(value_0, parameter_1='value')'\n",
    "    \n",
    "# 6 - PEP 8 (https://www.python.org/dev/peps/pep-0008/) recommends that you limit lines of code to 79 characters\n",
    "\n",
    "# 7 - If a set of parameters causes a function’s definition to be longer than 79 characters, \n",
    "#     press ENTER after the opening parenthesis on the definition line.\n",
    "#     On the next line, press TAB twice to separate the list of arguments from the body of the function, \n",
    "#     which will only be indented one level.\n",
    "        \n",
    "        '''def function_name(\n",
    "                parameter_0, parameter_1, parameter_2,\n",
    "                parameter_3, parameter_4, parameter_5):\n",
    "            function body...'''\n",
    "        \n",
    "# 8 - If your program or module has more than one function, \n",
    "#     you can separate each by two blank lines to make it easier to see \n",
    "#     where one function ends and the next one begins.\n",
    "\n",
    "# 9 - All import statements should be written at the beginning of a file. \n",
    "#     The only exception is if you use comments at the beginning of your file to describe the overall program."
   ]
  },
  {
   "cell_type": "markdown",
   "metadata": {},
   "source": [
    "# Exercises"
   ]
  },
  {
   "cell_type": "code",
   "execution_count": null,
   "metadata": {},
   "outputs": [],
   "source": [
    "#8-15. Printing Models: Put the functions for the example printing_models.py in a separate file called printing_functions.py. \n",
    "#Write an import statement at the top of printing_models.py, and modify the file to use the imported functions.\n",
    "\n",
    "#create a file as printing_functions.py with the functions:\n",
    "\n",
    "'''\n",
    "def print_models(unprinted_designs, completed_models):\n",
    "       \"\"\"\n",
    "       Simulate printing each design, until none are left.\n",
    "       Move each design to completed_models after printing.\n",
    "       \"\"\"\n",
    "       while unprinted_designs:\n",
    "           current_design = unprinted_designs.pop()\n",
    "           print(f\"Printing model: {current_design}\")\n",
    "           completed_models.append(current_design)\n",
    "\n",
    "#summarize the prints that have been made\n",
    "def show_completed_models(completed_models):\n",
    "       \"\"\"Show all the models that were printed.\"\"\"\n",
    "       print(\"\\nThe following models have been printed:\")\n",
    "       for completed_model in completed_models:\n",
    "           print(completed_model)'''\n",
    "\n",
    "#create another file as printing_models.py with:\n",
    "\n",
    "'''\n",
    "import printing_functions\n",
    "\n",
    "#Lists\n",
    "unprinted_designs = ['phone case', 'robot pendant', 'dodecahedron']\n",
    "completed_models = []\n",
    "\n",
    "#Test\n",
    "printing_functions.print_models(unprinted_designs, completed_models)\n",
    "printing_functions.show_completed_models(completed_models)\n",
    "\n",
    "'''"
   ]
  },
  {
   "cell_type": "code",
   "execution_count": null,
   "metadata": {},
   "outputs": [],
   "source": [
    "#8-16. Imports: Using a program you wrote that has one function in it, store that function in a separate file. \n",
    "#Import the function into your main program file, and call the function using each of these approaches:\n",
    "\n",
    "'''\n",
    "import module_name\n",
    "from module_name import function_name\n",
    "from module_name import function_name as fn\n",
    "import module_name as mn\n",
    "from module_name import *\n",
    "'''\n",
    "\n",
    "#1) Create buider_profile.py\n",
    "'''\n",
    "def create_profile(first, last, **user_info):\n",
    "    \"\"\"Build a dictionary containing everything we know about a user.\"\"\"\n",
    "    user_info['first_name'] = first\n",
    "    user_info['last_name'] = last\n",
    "    return user_info'''\n",
    "\n",
    "#2) Create profile.py\n",
    "\n",
    "import bluilder_profile\n",
    "from builder_profile import create_profile\n",
    "from builder_profile import create_profile as cp\n",
    "import builder_profile as bp\n",
    "from builder_profile import *\n"
   ]
  },
  {
   "cell_type": "code",
   "execution_count": null,
   "metadata": {},
   "outputs": [],
   "source": [
    "# 8-17. Styling Functions: Choose any three programs you wrote for this chapter, \n",
    "#and make sure they follow the styling guidelines described in this section.\n",
    "\n"
   ]
  }
 ],
 "metadata": {
  "kernelspec": {
   "display_name": "Python 3",
   "language": "python",
   "name": "python3"
  },
  "language_info": {
   "codemirror_mode": {
    "name": "ipython",
    "version": 3
   },
   "file_extension": ".py",
   "mimetype": "text/x-python",
   "name": "python",
   "nbconvert_exporter": "python",
   "pygments_lexer": "ipython3",
   "version": "3.8.3"
  }
 },
 "nbformat": 4,
 "nbformat_minor": 4
}
