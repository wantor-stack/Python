{
 "cells": [
  {
   "cell_type": "markdown",
   "metadata": {},
   "source": [
    "# Book: Python Crash Course - Chapter 9 - Classes"
   ]
  },
  {
   "cell_type": "markdown",
   "metadata": {},
   "source": [
    "## RESUME AND EXERCISES"
   ]
  },
  {
   "cell_type": "code",
   "execution_count": null,
   "metadata": {},
   "outputs": [],
   "source": [
    "# INTRODUCTION:\n",
    "\n",
    "# 1 - Object-oriented programming is one of the most effective approaches to writing software.\n",
    "# 2 - When you write a class, you define the general behavior that a whole category of objects can have.\n",
    "# 3 - Making an object from a class is called instantiation, and you work with instances of a class.\n",
    "# 4 - Understanding object-oriented programming will help you see the world as a programmer does.\n",
    "# 5 - It’ll help us really know our code, not just what’s happening line by line, but also the bigger concepts behind it.\n",
    "# 6 - Knowing the logic behind classes will train you to think logically \n",
    "#     so you can write programs that effectively address almost any problem you encounter.\n",
    "# 7 - Classes also make life easier for us and the other programmers \n",
    "#     we’ll work with as you take on increasingly complex challenges. \n",
    "# 8 - Your programs will make sense to many collaborators, allowing everyone to accomplish more."
   ]
  },
  {
   "cell_type": "code",
   "execution_count": null,
   "metadata": {},
   "outputs": [],
   "source": [
    "# WE'LL BE ABLE TO:\n",
    "\n",
    "# write classes and create instances of those classes\n",
    "# specify the kind of information that can be stored in instances\n",
    "# define actions that can be taken with these instances\n",
    "# write classes that extend the functionality of existing classes, so similar classes can share code efficiently\n",
    "# store your classes in modules\n",
    "# import classes written by other programmers into your own program files\n"
   ]
  },
  {
   "cell_type": "markdown",
   "metadata": {},
   "source": [
    "## CREATING AND USING A CLASS\n"
   ]
  },
  {
   "cell_type": "code",
   "execution_count": 1,
   "metadata": {},
   "outputs": [],
   "source": [
    "#Creating the Dog Class\n",
    "\n",
    "class Dog:\n",
    "    \"\"\"A simple attempt to model a dog.\"\"\"\n",
    "\n",
    "    def __init__(self, name, age):\n",
    "        \"\"\"Initialize name and age attributes.\"\"\"\n",
    "        self.name = name\n",
    "        self.age = age\n",
    "\n",
    "    def sit(self):\n",
    "        \"\"\"Simulate a dog sitting in response to a command.\"\"\"\n",
    "        print(f\"{self.name} is now sitting.\")\n",
    "\n",
    "    def roll_over(self):\n",
    "        \"\"\"Simulate rolling over in response to a command.\"\"\"\n",
    "        print(f\"{self.name} rolled over!\")"
   ]
  },
  {
   "cell_type": "code",
   "execution_count": null,
   "metadata": {},
   "outputs": [],
   "source": [
    "#The __init__() Method\n",
    "\n",
    "#A function that’s part of a class is a method. \n",
    "# The __init__() method is a special method that Python runs automatically \n",
    "# whenever we create a new instance based on the Dog class\n",
    "# Make sure to use two underscores on each side of __init__()\n"
   ]
  },
  {
   "cell_type": "code",
   "execution_count": null,
   "metadata": {},
   "outputs": [],
   "source": [
    "# Self Parameter\n",
    "\n",
    "# The self parameter is required in the method definition, and it must come first before the other parameters.\n",
    "# Any variable prefixed with self is available to every method in the class, \n",
    "# and we’ll also be able to access these variables through any instance created from the class.\n",
    "# The line self.name = name takes the value associated with the parameter name and assigns it to the variable name, \n",
    "# which is then attached to the instance being created. "
   ]
  },
  {
   "cell_type": "code",
   "execution_count": null,
   "metadata": {},
   "outputs": [],
   "source": [
    "# Atributes\n",
    "\n",
    "# Variables that are accessible through instances like this are called attributes."
   ]
  },
  {
   "cell_type": "code",
   "execution_count": 2,
   "metadata": {},
   "outputs": [
    {
     "name": "stdout",
     "output_type": "stream",
     "text": [
      "My dog's name is Willie.\n",
      "My dog is 6 years old.\n"
     ]
    }
   ],
   "source": [
    "# Making an Instance from a Class\n",
    "# Python returns an instance representing this dog.\n",
    "\n",
    "my_dog = Dog('Willie', 6)\n",
    "\n"
   ]
  },
  {
   "cell_type": "code",
   "execution_count": null,
   "metadata": {},
   "outputs": [],
   "source": [
    "# Name Convention\n",
    "\n",
    "# The naming convention is helpful here: we can usually assume that a capitalized name like Dog refers to a class, \n",
    "# and a lowercase name like my_dog refers to a single instance created from a class."
   ]
  },
  {
   "cell_type": "code",
   "execution_count": 4,
   "metadata": {},
   "outputs": [
    {
     "name": "stdout",
     "output_type": "stream",
     "text": [
      "My dog's name is Willie.\n",
      "My dog is 6 years old.\n"
     ]
    }
   ],
   "source": [
    "#Accessing Attributes\n",
    "\n",
    "print(f\"My dog's name is {my_dog.name}.\")\n",
    "print(f\"My dog is {my_dog.age} years old.\")"
   ]
  },
  {
   "cell_type": "code",
   "execution_count": 5,
   "metadata": {},
   "outputs": [
    {
     "name": "stdout",
     "output_type": "stream",
     "text": [
      "Willie is now sitting.\n",
      "Willie rolled over!\n"
     ]
    }
   ],
   "source": [
    "# Calling Methods\n",
    "\n",
    "my_dog.sit()\n",
    "my_dog.roll_over()"
   ]
  },
  {
   "cell_type": "code",
   "execution_count": 8,
   "metadata": {},
   "outputs": [
    {
     "name": "stdout",
     "output_type": "stream",
     "text": [
      "My dog's name is Willie.\n",
      "My dog is 6 years old.\n",
      "Willie is now sitting.\n",
      "\n",
      "Your dog's name is Lucy.\n",
      "Your dog is 3 years old.\n",
      "Lucy rolled over!\n"
     ]
    }
   ],
   "source": [
    "# Creating Multiple Instances\n",
    "\n",
    "my_dog = Dog('Willie', 6)\n",
    "your_dog = Dog('Lucy', 3)\n",
    "\n",
    "print(f\"My dog's name is {my_dog.name}.\")\n",
    "print(f\"My dog is {my_dog.age} years old.\")\n",
    "my_dog.sit()\n",
    "\n",
    "print(f\"\\nYour dog's name is {your_dog.name}.\")\n",
    "print(f\"Your dog is {your_dog.age} years old.\")\n",
    "your_dog.roll_over()"
   ]
  },
  {
   "cell_type": "markdown",
   "metadata": {},
   "source": [
    "# EXERCISES"
   ]
  },
  {
   "cell_type": "code",
   "execution_count": 3,
   "metadata": {},
   "outputs": [
    {
     "name": "stdout",
     "output_type": "stream",
     "text": [
      "\n",
      "Restaurant: Nihao \n",
      "Cuisine: Thailand\n",
      "Nihao is open !\n"
     ]
    }
   ],
   "source": [
    "'''9-1. Restaurant: Make a class called Restaurant. The __init__() method for Restaurant should store two attributes: \n",
    "    a restaurant_name and a cuisine_type. Make a method called describe_restaurant() that prints these two pieces of information, \n",
    "    and a method called open_restaurant() that prints a message indicating that the restaurant is open.\n",
    "\n",
    "    Make an instance called restaurant from your class. Print the two attributes individually, and then call both methods.'''\n",
    "\n",
    "class Restaurant:\n",
    "    \n",
    "    def __init__(self, restaurant_name, cuisine_type):\n",
    "        \"\"\"Initialize the restaurant.\"\"\"\n",
    "        self.restaurant_name = restaurant_name.title()\n",
    "        self.cuisine_type = cuisine_type\n",
    "    \n",
    "    def describe_restaurant(self):\n",
    "        \"\"\"Display a summary of the restaurant.\"\"\"\n",
    "        print(f'\\nRestaurant: {self.restaurant_name} \\nCuisine: {self.cuisine_type}')\n",
    "        \n",
    "    def open_restaurant(self):\n",
    "        \"\"\"Display a message that the restaurant is open.\"\"\"\n",
    "        print(f\"{self.restaurant_name} is open !\")\n",
    "        \n",
    "r1 = Restaurant('Nihao', 'Thailand')\n",
    "r1.describe_restaurant()\n",
    "r1.open_restaurant()"
   ]
  },
  {
   "cell_type": "code",
   "execution_count": 20,
   "metadata": {},
   "outputs": [
    {
     "name": "stdout",
     "output_type": "stream",
     "text": [
      "\n",
      "Restaurant: Mamma Mia \n",
      " Cuisine: Italian\n",
      "____________________________________________\n",
      "\n",
      "Restaurant: Hell \n",
      " Cuisine: American\n",
      "____________________________________________\n",
      "\n",
      "Restaurant: Cote \n",
      " Cuisine: French\n"
     ]
    }
   ],
   "source": [
    "'''9-2. Three Restaurants: Start with your class from Exercise 9-1. \n",
    "Create three different instances from the class, and call describe_restaurant() for each instance.'''\n",
    "\n",
    "r2 = Restaurant('Mamma Mia', 'Italian')\n",
    "r3 = Restaurant('Hell', 'American')\n",
    "r4 = Restaurant('Cote', 'French')\n",
    "\n",
    "r2.describe_restaurant()\n",
    "print(\"____________________________________________\")\n",
    "r3.describe_restaurant()\n",
    "print(\"____________________________________________\")\n",
    "r4.describe_restaurant()\n"
   ]
  },
  {
   "cell_type": "code",
   "execution_count": 11,
   "metadata": {},
   "outputs": [
    {
     "name": "stdout",
     "output_type": "stream",
     "text": [
      "\n",
      "Wanderson Torres\n",
      " Username: wan\n",
      " Email: wan@email.com\n",
      " Location: RJ\n",
      " Hello, Wanderson Torres\n",
      "\n",
      "Albert Einstein\n",
      " Username: aL_einstein\n",
      " Email: einstein@email.com\n",
      " Location: GE\n",
      " Hello, Albert Einstein\n"
     ]
    }
   ],
   "source": [
    "'''9-3. Users: Make a class called User. Create two attributes called first_name and last_name, \n",
    "and then create several other attributes that are typically stored in a user profile. \n",
    "Make a method called describe_user() that prints a summary of the user’s information. \n",
    "Make another method called greet_user() that prints a personalized greeting to the user.\n",
    "\n",
    "Create several instances representing different users, and call both methods for each user.'''\n",
    "\n",
    "class User:\n",
    "    \"\"\"Represent a simple user profile.\"\"\"\n",
    "    \n",
    "    def __init__(self, first_name, last_name, username, email, location):\n",
    "        \"\"\"Build a dictionary containing everything we know about a user.\"\"\"\n",
    "        self.first_name = first_name\n",
    "        self.last_name = last_name\n",
    "        self.username = username\n",
    "        self.email = email\n",
    "        self.location = location\n",
    "        \n",
    "    \n",
    "    def describe_user(self):\n",
    "        \"\"\"Display a summary of the user's information.\"\"\"\n",
    "        print(f'\\n{self.first_name} {self.last_name}')\n",
    "        print(f' Username: {self.username}')\n",
    "        print(f' Email: {self.email}')\n",
    "        print(f' Location: {self.location}')\n",
    "    \n",
    "    \n",
    "    def greet_user(self):\n",
    "        print(f' Hello, {self.first_name} {self.last_name}')\n",
    "\n",
    "user1 = User('Wanderson', 'Torres', 'wan', 'wan@email.com', 'RJ')\n",
    "user1.describe_user()\n",
    "user1.greet_user()\n",
    "\n",
    "user2 = User('albert', 'einstein', 'al_einstein', 'einstein@email.com', 'GE')\n",
    "user2.describe_user()\n",
    "user2.greet_user()\n"
   ]
  },
  {
   "cell_type": "markdown",
   "metadata": {},
   "source": [
    "### WORKING WITH CLASSES AND INSTANCES"
   ]
  },
  {
   "cell_type": "code",
   "execution_count": 18,
   "metadata": {},
   "outputs": [
    {
     "name": "stdout",
     "output_type": "stream",
     "text": [
      "2019 Audi A4\n"
     ]
    }
   ],
   "source": [
    "#The Car Class\n",
    "\n",
    "class Car:\n",
    "    \"\"\"A simple attempt to represent a car.\"\"\"\n",
    "\n",
    "    def __init__(self, make, model, year):\n",
    "        \"\"\"Initialize attributes to describe a car.\"\"\"\n",
    "        #Atributes\n",
    "        self.make = make\n",
    "        self.model = model\n",
    "        self.year = year\n",
    "    \n",
    "    #Method\n",
    "    def get_descriptive_name(self):\n",
    "        \"\"\"Return a neatly formatted descriptive name.\"\"\"\n",
    "        long_name = f\"{self.year} {self.make} {self.model}\"\n",
    "        return long_name.title()\n",
    "\n",
    "my_new_car = Car('audi', 'a4', 2019)\n",
    "print(my_new_car.get_descriptive_name())"
   ]
  },
  {
   "cell_type": "code",
   "execution_count": 38,
   "metadata": {},
   "outputs": [
    {
     "name": "stdout",
     "output_type": "stream",
     "text": [
      "2019 Audi A4\n",
      "This car has 0 miles on it.\n"
     ]
    }
   ],
   "source": [
    "#Setting a Default Value for an Attribute\n",
    "\n",
    "\n",
    "class Car:\n",
    "    def __init__(self, make, model, year):\n",
    "        \"\"\"Initialize attributes to describe a car.\"\"\"\n",
    "        self.make = make\n",
    "        self.model = model\n",
    "        self.year = year\n",
    "        #Python creates a new attribute called odometer_reading and sets its initial value to 0 \n",
    "        self.odometer_reading = 0\n",
    "\n",
    "    def get_descriptive_name(self):\n",
    "        \"\"\"Return a neatly formatted descriptive name.\"\"\"\n",
    "        long_name = f\"{self.year} {self.make} {self.model}\"\n",
    "        return long_name.title()    \n",
    "\n",
    "    #new method that reads a car’s mileage.\n",
    "    def read_odometer(self):\n",
    "        \"\"\"Print a statement showing the car's mileage.\"\"\"\n",
    "        print(f\"This car has {self.odometer_reading} miles on it.\")\n",
    "\n",
    "my_new_car = Car('audi', 'a4', 2019)\n",
    "print(my_new_car.get_descriptive_name())\n",
    "my_new_car.read_odometer()"
   ]
  },
  {
   "cell_type": "code",
   "execution_count": 39,
   "metadata": {
    "scrolled": true
   },
   "outputs": [
    {
     "name": "stdout",
     "output_type": "stream",
     "text": [
      "This car has 23 miles on it.\n"
     ]
    }
   ],
   "source": [
    "#Modifying an Attribute’s Value Directly\n",
    "\n",
    "#Nothing in the class was modified\n",
    "\n",
    "my_new_car.odometer_reading = 23\n",
    "my_new_car.read_odometer()"
   ]
  },
  {
   "cell_type": "code",
   "execution_count": 50,
   "metadata": {},
   "outputs": [
    {
     "name": "stdout",
     "output_type": "stream",
     "text": [
      "2015 Subaru Outback\n",
      "This car has 23500 miles on it.\n",
      "You can't roll back an odometer\n",
      "This car has 23500 miles on it.\n"
     ]
    }
   ],
   "source": [
    "#1 - Modifying an Attribute’s Value Through a Method\n",
    "#2 - Incrementing an Attribute’s Value Through a Method\n",
    "\n",
    "class Car:\n",
    "    def __init__(self, make, model, year):\n",
    "        \"\"\"Initialize attributes to describe a car.\"\"\"\n",
    "        self.make = make\n",
    "        self.model = model\n",
    "        self.year = year \n",
    "        self.odometer_reading = 0\n",
    "\n",
    "    def get_descriptive_name(self):\n",
    "        \"\"\"Return a neatly formatted descriptive name.\"\"\"\n",
    "        long_name = f\"{self.year} {self.make} {self.model}\"\n",
    "        return long_name.title()    \n",
    "\n",
    "    def read_odometer(self):\n",
    "        \"\"\"Print a statement showing the car's mileage.\"\"\"\n",
    "        print(f\"This car has {self.odometer_reading} miles on it.\")\n",
    "    \n",
    "    \n",
    "    def update_odometer(self, mileage):\n",
    "        \"\"\"\n",
    "        Set the odometer reading to the given value.\n",
    "        Reject the change if it attempts to roll the odometer back.\n",
    "        \"\"\"\n",
    "        if mileage >= self.odometer_reading:\n",
    "            self.odometer_reading = mileage\n",
    "        else:\n",
    "            print(\"You can't roll back an odometer!\")\n",
    "    \n",
    "    def increment_odometer(self,miles):\n",
    "        \"\"\"Add the given amount to the odometer reading.\"\"\"\n",
    "        if(miles > 0):\n",
    "            self.odometer_reading += miles\n",
    "        else:\n",
    "            print(\"You can't roll back an odometer\")\n",
    "            \n",
    "\n",
    "#Creating a new instance\n",
    "my_used_car = Car('subaru', 'outback', 2015)\n",
    "print(my_used_car.get_descriptive_name())\n",
    "\n",
    "#Atributing a value to the odometer\n",
    "my_used_car.update_odometer(23_500)\n",
    "my_used_car.read_odometer()\n",
    "\n",
    "#Incrementing the odometer\n",
    "my_used_car.increment_odometer(-100)\n",
    "my_used_car.read_odometer()\n"
   ]
  },
  {
   "cell_type": "markdown",
   "metadata": {},
   "source": [
    "# Exercises"
   ]
  },
  {
   "cell_type": "code",
   "execution_count": 65,
   "metadata": {},
   "outputs": [
    {
     "name": "stdout",
     "output_type": "stream",
     "text": [
      "\n",
      "Restaurant: Pizza Mario \n",
      "Cuisine: italian\n",
      "Number served: 0\n",
      "Number served: 25\n",
      "Number served: 50\n",
      "Number served: 100\n"
     ]
    }
   ],
   "source": [
    "'''9-4. Number Served: Start with your program from Exercise 9-1 (page 162). \n",
    "    Add an attribute called number_served with a default value of 0. \n",
    "    Create an instance called restaurant from this class. \n",
    "    Print the number of customers the restaurant has served, and then change this value and print it again.\n",
    "    \n",
    "    Add a method called set_number_served() that lets you set the number of customers that have been served. \n",
    "    Call this method with a new number and print the value again.\n",
    "    \n",
    "    Add a method called increment_number_served() that lets you increment the number of customers who’ve been served. \n",
    "    Call this method with any number you like that could represent how many customers were served in, say, a day of business.'''\n",
    "    \n",
    "class Restaurant:\n",
    "    \n",
    "    def __init__(self, restaurant_name, cuisine_type):\n",
    "        \"\"\"Initialize the restaurant.\"\"\"\n",
    "        self.restaurant_name = restaurant_name.title()\n",
    "        self.cuisine_type = cuisine_type\n",
    "        self.number_served = 0\n",
    "\n",
    "    def describe_restaurant(self):\n",
    "        \"\"\"Display a summary of the restaurant.\"\"\"\n",
    "        print(f'\\nRestaurant: {self.restaurant_name} \\nCuisine: {self.cuisine_type}')\n",
    "\n",
    "    def open_restaurant(self):\n",
    "        \"\"\"Display a message that the restaurant is open.\"\"\"\n",
    "        print(f\"{self.restaurant_name} is open !\")\n",
    "\n",
    "    def set_number_served(self, number_served):\n",
    "        \"\"\"Allow user to set the number of customers that have been served.\"\"\"\n",
    "        self.number_served = number_served\n",
    "    \n",
    "    def increment_number_served(self, customer):\n",
    "        \"\"\"Allow user to increment the number of customers served\"\"\"\n",
    "        self.number_served += customer\n",
    "\n",
    "\n",
    "rest1 = Restaurant('Pizza Mario', 'italian')\n",
    "rest1.describe_restaurant()\n",
    "print(f'Number served: {rest1.number_served}')\n",
    "    \n",
    "#Example: Modify an Attribute’s Value Directly \n",
    "\n",
    "rest1.number_served = 25\n",
    "print(f'Number served: {rest1.number_served}')\n",
    "\n",
    "#Example: Modify an Attribute’s Value Through a Method\n",
    "rest1.set_number_served(50)\n",
    "print(f'Number served: {rest1.number_served}')\n",
    "\n",
    "# Example: Incrent an Attribute's through a Method\n",
    "rest1.increment_number_served(50)\n",
    "print(f'Number served: {rest1.number_served}')"
   ]
  },
  {
   "cell_type": "code",
   "execution_count": 3,
   "metadata": {},
   "outputs": [
    {
     "name": "stdout",
     "output_type": "stream",
     "text": [
      "Login Attempts of wan: 6\n",
      "Login Attempts of wan: 0\n"
     ]
    }
   ],
   "source": [
    "'''9-5. Login Attempts: Add an attribute called login_attempts to your User class from Exercise 9-3 (page 162). \n",
    "Write a method called increment_login_attempts() that increments the value of login_attempts by 1. \n",
    "Write another method called reset_login_attempts() that resets the value of login_attempts to 0.\n",
    "Make an instance of the User class and call increment_login_attempts() several times. \n",
    "Print the value of login_attempts to make sure it was incremented properly, and then call reset_login_attempts(). \n",
    "Print login_attempts again to make sure it was reset to 0.'''\n",
    "\n",
    "\n",
    "class User:\n",
    "    \"\"\"Represent a simple user profile.\"\"\"\n",
    "    \n",
    "    def __init__(self, first_name, last_name, username, email, location):\n",
    "        \"\"\"Build a dictionary containing everything we know about a user.\"\"\"\n",
    "        self.first_name = first_name\n",
    "        self.last_name = last_name\n",
    "        self.username = username\n",
    "        self.email = email\n",
    "        self.location = location\n",
    "        self.login_attempts = 0\n",
    "        \n",
    "    \n",
    "    def describe_user(self):\n",
    "        \"\"\"Display a summary of the user's information.\"\"\"\n",
    "        print(f'\\n{self.first_name} {self.last_name}')\n",
    "        print(f' Username: {self.username}')\n",
    "        print(f' Email: {self.email}')\n",
    "        print(f' Location: {self.location}')\n",
    "    \n",
    "    \n",
    "    def greet_user(self):\n",
    "        '''Show a greeting message'''\n",
    "        print(f' Hello, {self.first_name} {self.last_name}')\n",
    "        \n",
    "    def increment_login_attempts(self):\n",
    "        '''Add 1 to the login attempts'''\n",
    "        self.login_attempts += 1\n",
    "    \n",
    "    def reset_login_attempts(self):\n",
    "        '''Reset login attempts'''\n",
    "        self.login_attempts = 0\n",
    "\n",
    "user1 = User('Wanderson', 'Torres', 'wan', 'wan@email.com', 'RJ')\n",
    "\n",
    "#Using Increment\n",
    "user1.increment_login_attempts()\n",
    "user1.increment_login_attempts()\n",
    "user1.increment_login_attempts()\n",
    "user1.increment_login_attempts()\n",
    "user1.increment_login_attempts()\n",
    "user1.increment_login_attempts()\n",
    "print(f'Login Attempts of {user1.username}: {user1.login_attempts}')\n",
    "\n",
    "#Using Reset\n",
    "user1.reset_login_attempts()\n",
    "print(f'Login Attempts of {user1.username}: {user1.login_attempts}')"
   ]
  },
  {
   "cell_type": "markdown",
   "metadata": {},
   "source": [
    "# INHERITANCE"
   ]
  },
  {
   "cell_type": "code",
   "execution_count": 74,
   "metadata": {},
   "outputs": [
    {
     "name": "stdout",
     "output_type": "stream",
     "text": [
      "2019 Tesla Model S\n"
     ]
    }
   ],
   "source": [
    "# The __init__() Method for a Child Class\n",
    "# If the class you’re writing is a specialized version of another class you wrote, you can use inheritance. \n",
    "#The original class is called the parent class, and the new class is the child class.\n",
    "#The child class can inherit any or all of the attributes and methods of its parent class, \n",
    "#but it’s also free to define new attributes and methods of its own.\n",
    "\n",
    "# Parent Classe : car.py\n",
    "\n",
    "class Car:\n",
    "    \"\"\"A simple attempt to represent a car.\"\"\"\n",
    "\n",
    "    def __init__(self, make, model, year):\n",
    "        self.make = make\n",
    "        self.model = model\n",
    "        self.year = year\n",
    "        self.odometer_reading = 0\n",
    "        self.tank = 0\n",
    "\n",
    "    def get_descriptive_name(self):\n",
    "        long_name = f\"{self.year} {self.make} {self.model}\"\n",
    "        return long_name.title()\n",
    "\n",
    "    def read_odometer(self):\n",
    "        print(f\"This car has {self.odometer_reading} miles on it.\")\n",
    "\n",
    "    def update_odometer(self, mileage):\n",
    "        if mileage >= self.odometer_reading:\n",
    "            self.odometer_reading = mileage\n",
    "        else:\n",
    "            print(\"You can't roll back an odometer!\")\n",
    "\n",
    "    def increment_odometer(self, miles):\n",
    "        self.odometer_reading += miles\n",
    "    \n",
    "    def fill_gas_tank(self):\n",
    "        self.tank = 50\n",
    "        \n",
    "#Child Class : electric_car.py\n",
    "\n",
    "    class ElectricCar(Car):\n",
    "        \"\"\"Represent aspects of a car, specific to electric vehicles.\"\"\"\n",
    "\n",
    "        def __init__(self, make, model, year):\n",
    "            \"\"\"Initialize attributes of the parent class.\"\"\"\n",
    "            #The name super comes from a convention of calling the parent class a superclass and the child class a subclass.\n",
    "            super().__init__(make, model, year)\n",
    "\n",
    "my_tesla = ElectricCar('tesla', 'model s', 2019)\n",
    "print(my_tesla.get_descriptive_name())"
   ]
  },
  {
   "cell_type": "code",
   "execution_count": 72,
   "metadata": {},
   "outputs": [
    {
     "name": "stdout",
     "output_type": "stream",
     "text": [
      "2019 Tesla Model S\n",
      "This car has a 75-kWh battery.\n"
     ]
    }
   ],
   "source": [
    "# Defining Attributes and Methods for the Child Class\n",
    "# We can add any new attributes and methods necessary to differentiate the child class from the parent class.\n",
    "\n",
    "#class Car:\n",
    "#       --snip--\n",
    "\n",
    "class ElectricCar(Car):\n",
    "    \"\"\"Represent aspects of a car, specific to electric vehicles.\"\"\"\n",
    "\n",
    "    def __init__(self, make, model, year):\n",
    "        \"\"\"\n",
    "        Initialize attributes of the parent class.\n",
    "        Then initialize attributes specific to an electric car.\n",
    "        \"\"\"\n",
    "        super().__init__(make, model, year)\n",
    "        #add a new attribute self.battery_size and set its initial value to, say, 75\n",
    "        self.battery_size = 75\n",
    "\n",
    "    #add a method called describe_battery() that prints information about the battery \n",
    "    def describe_battery(self):\n",
    "        \"\"\"Print a statement describing the battery size.\"\"\"\n",
    "        print(f\"This car has a {self.battery_size}-kWh battery.\")\n",
    "\n",
    "my_tesla = ElectricCar('tesla', 'model s', 2019)\n",
    "print(my_tesla.get_descriptive_name())\n",
    "my_tesla.describe_battery()"
   ]
  },
  {
   "cell_type": "code",
   "execution_count": 23,
   "metadata": {},
   "outputs": [
    {
     "name": "stdout",
     "output_type": "stream",
     "text": [
      "This car doesn't need a gas tank!\n"
     ]
    }
   ],
   "source": [
    "# Overriding Methods from the Parent Class\n",
    "# You can override any method from the parent class that doesn’t fit what you’re trying to model with the child class.\n",
    "# To do this, you define a method in the child class with the same name as the method you want to override in the parent class.\n",
    "\n",
    "class Car():\n",
    "    def __init__(self, make, model, year):\n",
    "        self.make = make\n",
    "        self.model = model\n",
    "        self.year = year\n",
    "        self.odometer_reading = 0\n",
    "        self.tank = 0\n",
    "    \n",
    "    def fill_gas_tank(self):\n",
    "        self.tank = 50\n",
    "\n",
    "class ElectricCar(Car):\n",
    "    \"\"\"Represent aspects of a car, specific to electric vehicles.\"\"\"\n",
    "\n",
    "    def __init__(self, make, model, year):\n",
    "        \"\"\"\n",
    "        Initialize attributes of the parent class.\n",
    "        Then initialize attributes specific to an electric car.\n",
    "        \"\"\"\n",
    "        super().__init__(make, model, year)\n",
    "        self.battery_size = 75\n",
    "\n",
    "    def describe_battery(self):\n",
    "        \"\"\"Print a statement describing the battery size.\"\"\"\n",
    "        print(f\"This car has a {self.battery_size}-kWh battery.\")\n",
    "        \n",
    "    #Override the parent class car.py\n",
    "    def fill_gas_tank(self):\n",
    "        \"\"\"Electric cars don't have gas tanks.\"\"\"\n",
    "        print(\"This car doesn't need a gas tank!\")\n",
    "        \n",
    "my_tesla = ElectricCar('tesla', 'model s', 2019)\n",
    "my_tesla.fill_gas_tank()"
   ]
  },
  {
   "cell_type": "code",
   "execution_count": 24,
   "metadata": {},
   "outputs": [
    {
     "name": "stdout",
     "output_type": "stream",
     "text": [
      "This car has a 75-kWh battery.\n",
      "This car can go about 260 miles on a full charge.\n"
     ]
    }
   ],
   "source": [
    "# Instances as Attributes\n",
    "# you might recognize that part of one class can be written as a separate class.\n",
    "\n",
    "#Create a battery Class\n",
    "class Battery:\n",
    "    \"\"\"A simple attempt to model a battery for an electric car.\"\"\"\n",
    "\n",
    "    def __init__(self, battery_size=75):\n",
    "        \"\"\"Initialize the battery's attributes.\"\"\"\n",
    "        self.battery_size = battery_size\n",
    "\n",
    "    def describe_battery(self):\n",
    "        \"\"\"Print a statement describing the battery size.\"\"\"\n",
    "        print(f\"This car has a {self.battery_size}-kWh battery.\")\n",
    "        \n",
    "    #add another method to Battery that reports the range of the car based on the battery size:\n",
    "    def get_range(self):\n",
    "        \"\"\"Print a statement about the range this battery provides.\"\"\"\n",
    "        if self.battery_size == 75:\n",
    "               range = 260\n",
    "        elif self.battery_size == 100:\n",
    "               range = 315\n",
    "        print(f\"This car can go about {range} miles on a full charge.\")\n",
    "\n",
    "# Calling a class Battery()\n",
    "\n",
    "class ElectricCar(Car):\n",
    "    \"\"\"Represent aspects of a car, specific to electric vehicles.\"\"\"\n",
    "\n",
    "    def __init__(self, make, model, year):\n",
    "        \"\"\"\n",
    "        Initialize attributes of the parent class.\n",
    "        Then initialize attributes specific to an electric car.\n",
    "        \"\"\"\n",
    "        super().__init__(make, model, year)\n",
    "        #add an attribute called self.battery\n",
    "        self.battery = Battery()\n",
    "\n",
    "\n",
    "my_tesla = ElectricCar('tesla', 'model s', 2019)\n",
    "\n",
    "# If we want to describe the battery, we need to work through the car’s battery attribute:\n",
    "my_tesla.battery.describe_battery()\n",
    "\n",
    "#Range of the car\n",
    "my_tesla.battery.get_range()\n"
   ]
  },
  {
   "cell_type": "code",
   "execution_count": null,
   "metadata": {},
   "outputs": [],
   "source": [
    "# Modeling Real-World Objects\n",
    "# You’re thinking not about Python, but about how to represent the real world in code. \n",
    "# When you reach this point, you’ll realize there are often no right or wrong approaches to modeling real-world situations. \n",
    "# Some approaches are more efficient than others, but it takes practice to find the most efficient representations. \n",
    "# If your code is working as you want it to, you’re doing well!\n",
    "\n",
    "#Don’t be discouraged if you find you’re ripping apart your classes and rewriting them several times using different approaches"
   ]
  },
  {
   "cell_type": "markdown",
   "metadata": {},
   "source": [
    "# Exercises"
   ]
  },
  {
   "cell_type": "code",
   "execution_count": 96,
   "metadata": {},
   "outputs": [
    {
     "name": "stdout",
     "output_type": "stream",
     "text": [
      "\n",
      "Restaurant: Mole \n",
      "Cuisine: ice_cream\n",
      "\n",
      "We have the following flavors available:\n",
      "- vanilla\n",
      "- chocolate\n",
      "- strawberry\n"
     ]
    }
   ],
   "source": [
    "'''9-6. Ice Cream Stand: An ice cream stand is a specific kind of restaurant. \n",
    "Write a class called IceCreamStand that inherits from the Restaurant class \n",
    "you wrote in Exercise 9-1 (page 162) or Exercise 9-4 (page 167). \n",
    "Either version of the class will work; just pick the one you like better. \n",
    "Add an attribute called flavors that stores a list of ice cream flavors. \n",
    "Write a method that displays these flavors. \n",
    "Create an instance of IceCreamStand, and call this method.'''\n",
    "\n",
    "class IceCreamStand(Restaurant):\n",
    "    def __init__(self, restaurant_name, cuisine_type='ice_cream'):\n",
    "        \"\"\"\n",
    "        Initialize attributes of the parent class.\n",
    "        Then initialize attributes specific to an Ice cream Stand.\n",
    "        \"\"\"\n",
    "        super().__init__(restaurant_name, cuisine_type)\n",
    "        self.flavours = []\n",
    "    \n",
    "    def show_flavours(self):\n",
    "        '''Display the flavours available'''\n",
    "        print(\"\\nWe have the following flavors available:\")\n",
    "        for flavour in self.flavours:\n",
    "            print(f'- {flavour}')\n",
    "\n",
    "Mole = IceCreamStand('Mole')\n",
    "Mole.flavours = ['vanilla', 'chocolate', 'strawberry']\n",
    "\n",
    "Mole.describe_restaurant()\n",
    "Mole.show_flavours()"
   ]
  },
  {
   "cell_type": "code",
   "execution_count": 11,
   "metadata": {},
   "outputs": [
    {
     "name": "stdout",
     "output_type": "stream",
     "text": [
      "\n",
      "Privileges:\n",
      "- can add post\n",
      "- can delete post\n",
      "- can ban user\n"
     ]
    }
   ],
   "source": [
    "'''9-7. Admin: An administrator is a special kind of user. \n",
    "Write a class called Admin that inherits from the User class you wrote in Exercise 9-3 (page 162) or Exercise 9-5 (page 167). \n",
    "Add an attribute, privileges, that stores a list of strings like \"can add post\", \"can delete post\", \"can ban user\", and so on. \n",
    "Write a method called show_privileges() that lists the administrator’s set of privileges. \n",
    "Create an instance of Admin, and call your method.'''\n",
    "\n",
    "class Admin(User):\n",
    "    \"\"\"A user with administrative privileges.\"\"\"\n",
    "\n",
    "    def __init__(self, first_name, last_name, username, email, location):\n",
    "        \"\"\"Initialize the admin.\"\"\"\n",
    "        super().__init__(first_name, last_name, username, email, location)\n",
    "        self.privileges = []\n",
    "\n",
    "    def show_privileges(self):\n",
    "        \"\"\"Display the privileges this administrator has.\"\"\"\n",
    "        print(\"\\nPrivileges:\")\n",
    "        for privilege in self.privileges:\n",
    "            print(f\"- {privilege}\")\n",
    "            \n",
    "wan = Admin('wanderson', 'torres', 'wan', 'wan@email.com', 'RJ')\n",
    "wan.privileges = [\"can add post\", \"can delete post\", \"can ban user\"]\n",
    "wan.show_privileges()"
   ]
  },
  {
   "cell_type": "code",
   "execution_count": 20,
   "metadata": {},
   "outputs": [
    {
     "name": "stdout",
     "output_type": "stream",
     "text": [
      "\n",
      "Wanderson Torres\n",
      " Username: wan\n",
      " Email: wan@email.com\n",
      " Location: RJ\n",
      "\n",
      "Privileges:\n",
      "\n",
      "Privileges:\n",
      "- can add post\n",
      "- can delete post\n",
      "- can ban user\n"
     ]
    }
   ],
   "source": [
    "'''9-8. Privileges: Write a separate Privileges class. \n",
    "The class should have one attribute, privileges, that stores a list of strings as described in Exercise 9-7. \n",
    "Move the show_privileges() method to this class. Make a Privileges instance as an attribute in the Admin class. \n",
    "Create a new instance of Admin and use your method to show its privileges.'''\n",
    "\n",
    "class Admin(User):\n",
    "    \"\"\"A user with administrative privileges.\"\"\"\n",
    "    def __init__(self, first_name, last_name, username, email, location):\n",
    "        \"\"\"Initialize the admin.\"\"\"\n",
    "        super().__init__(first_name, last_name, username, email, location)\n",
    "        self.privileges = Privileges()\n",
    "\n",
    "\n",
    "class Privileges:\n",
    "    def __init__(self, privileges=[]):\n",
    "        '''Inicialize Privileges'''\n",
    "        self.privileges = privileges\n",
    "        \n",
    "    def show_privileges(self):\n",
    "        \"\"\"Display the privileges this administrator has.\"\"\"\n",
    "        print(\"\\nPrivileges:\")\n",
    "        for privilege in self.privileges:\n",
    "            print(f\"- {privilege}\")\n",
    "            \n",
    "#Creating Admin without privileges\n",
    "wan = Admin('wanderson', 'torres', 'wan', 'wan@email.com', 'RJ')\n",
    "wan.describe_user()\n",
    "wan.privileges.show_privileges()\n",
    "\n",
    "#Adding Privileges to Admin\n",
    "wan_privileges = [\"can add post\", \"can delete post\", \"can ban user\"]\n",
    "\n",
    "wan.privileges.privileges = wan_privileges\n",
    "wan.privileges.show_privileges()"
   ]
  },
  {
   "cell_type": "code",
   "execution_count": 26,
   "metadata": {},
   "outputs": [
    {
     "name": "stdout",
     "output_type": "stream",
     "text": [
      "Make an electric car, and check the range:\n",
      "This car can go about 260 miles on a full charge.\n",
      "\n",
      "Upgrade the battery, and check the range again:\n",
      "Upgraded the battery to 100 kWh.\n",
      "This car can go about 315 miles on a full charge.\n"
     ]
    }
   ],
   "source": [
    "'''9-9. Battery Upgrade: Use the final version of electric_car.py from this section. \n",
    "Add a method to the Battery class called upgrade_battery(). \n",
    "This method should check the battery size and set the capacity to 100 if it isn’t already. \n",
    "Make an electric car with a default battery size, call get_range() once, \n",
    "and then call get_range() a second time after upgrading the battery. You should see an increase in the car’s range.'''\n",
    "\n",
    "class Battery:\n",
    "    \"\"\"A simple attempt to model a battery for an electric car.\"\"\"\n",
    "\n",
    "    def __init__(self, battery_size=75):\n",
    "        \"\"\"Initialize the battery's attributes.\"\"\"\n",
    "        self.battery_size = battery_size\n",
    "\n",
    "    def describe_battery(self):\n",
    "        \"\"\"Print a statement describing the battery size.\"\"\"\n",
    "        print(f\"This car has a {self.battery_size}-kWh battery.\")\n",
    "        \n",
    "    #add another method to Battery that reports the range of the car based on the battery size:\n",
    "    def get_range(self):\n",
    "        \"\"\"Print a statement about the range this battery provides.\"\"\"\n",
    "        if self.battery_size == 75:\n",
    "               range = 260\n",
    "        elif self.battery_size == 100:\n",
    "               range = 315\n",
    "        print(f\"This car can go about {range} miles on a full charge.\")\n",
    "    \n",
    "    def upgrade_battery(self):\n",
    "        \"\"\"Check the Battery size and set the capacity to 100 if it isn’t already\"\"\"\n",
    "        if self.battery_size != 100:\n",
    "            self.battery_size = 100\n",
    "            print(\"Upgraded the battery to 100 kWh.\")\n",
    "        else:\n",
    "            print(\"The battery is already upgraded.\")\n",
    "\n",
    "________________________________________________________________________________________________________________________________\n",
    "\n",
    "#electric_car.py\n",
    "\n",
    "class ElectricCar(Car):\n",
    "    \"\"\"Represent aspects of a car, specific to electric vehicles.\"\"\"\n",
    "\n",
    "    def __init__(self, make, model, year):\n",
    "        \"\"\"\n",
    "        Initialize attributes of the parent class.\n",
    "        Then initialize attributes specific to an electric car.\n",
    "        \"\"\"\n",
    "        super().__init__(make, model, year)\n",
    "        #add an attribute called self.battery\n",
    "        self.battery = Battery()\n",
    "\n",
    "\n",
    "print(\"Make an electric car, and check the range:\")\n",
    "my_tesla = ElectricCar('tesla', 'roadster', 2019)\n",
    "my_tesla.battery.get_range()\n",
    "\n",
    "print(\"\\nUpgrade the battery, and check the range again:\")\n",
    "my_tesla.battery.upgrade_battery()\n",
    "my_tesla.battery.get_range()\n"
   ]
  },
  {
   "cell_type": "markdown",
   "metadata": {},
   "source": [
    "# IMPORTING CLASSES"
   ]
  },
  {
   "cell_type": "code",
   "execution_count": 31,
   "metadata": {},
   "outputs": [
    {
     "name": "stdout",
     "output_type": "stream",
     "text": [
      "2019 Audi A4\n",
      "This car has 23 miles on it.\n"
     ]
    }
   ],
   "source": [
    "# Importing a Single Class\n",
    "\n",
    "#\"Create\" a \"file\" car.py\n",
    "\n",
    "\"\"\"A class that can be used to represent a car.\"\"\"\n",
    "\n",
    "class Car:\n",
    "       \"\"\"A simple attempt to represent a car.\"\"\"\n",
    "\n",
    "       def __init__(self, make, model, year):\n",
    "           \"\"\"Initialize attributes to describe a car.\"\"\"\n",
    "           self.make = make\n",
    "           self.model = model\n",
    "           self.year = year\n",
    "           self.odometer_reading = 0\n",
    "\n",
    "       def get_descriptive_name(self):\n",
    "           \"\"\"Return a neatly formatted descriptive name.\"\"\"\n",
    "           long_name = f\"{self.year} {self.make} {self.model}\"\n",
    "           return long_name.title()\n",
    "\n",
    "       def read_odometer(self):\n",
    "           \"\"\"Print a statement showing the car's mileage.\"\"\"\n",
    "           print(f\"This car has {self.odometer_reading} miles on it.\")\n",
    "\n",
    "       def update_odometer(self, mileage):\n",
    "           \"\"\"\n",
    "           Set the odometer reading to the given value.\n",
    "           Reject the change if it attempts to roll the odometer back.\n",
    "           \"\"\"\n",
    "           if mileage >= self.odometer_reading:\n",
    "               self.odometer_reading = mileage\n",
    "           else:\n",
    "               print(\"You can't roll back an odometer!\")\n",
    "\n",
    "       def increment_odometer(self, miles):\n",
    "           \"\"\"Add the given amount to the odometer reading.\"\"\"\n",
    "           self.odometer_reading += miles\n",
    "\n",
    "________________________________________________________________________________________________________________________________\n",
    "\n",
    "# \"Create\" another \"file\" my_car.py\n",
    "\n",
    "#Example:\n",
    "\n",
    "#Importing\n",
    "'''from car import Car'''\n",
    "\n",
    "my_new_car = Car('audi', 'a4', 2019)\n",
    "print(my_new_car.get_descriptive_name())\n",
    "\n",
    "my_new_car.odometer_reading = 23\n",
    "my_new_car.read_odometer()"
   ]
  },
  {
   "cell_type": "code",
   "execution_count": null,
   "metadata": {},
   "outputs": [],
   "source": [
    "# Storing Multiple Classes in a Module\n",
    "\n",
    "#\"Create\" a \"file\" car.py\n",
    "\n",
    "\"\"\"\n",
    "A set of classes used to represent gas and electric cars.\n",
    "\n",
    "class Car:\n",
    "    pass\n",
    "\n",
    "class Battery:\n",
    "    pass\n",
    "\n",
    "class EletricCar:\n",
    "    pass \n",
    "\"\"\"\n",
    "________________________________________________________________________________________________________________________________\n",
    "\n",
    "# New file called my_electric_car.py, import the ElectricCar class, and make an electric car:\n",
    "\n",
    "'''\n",
    "my_electric_car.py\n",
    "\n",
    "from car import ElectricCar\n",
    "\n",
    "my_tesla = ElectricCar('tesla', 'model s', 2019)\n",
    "\n",
    "print(my_tesla.get_descriptive_name())\n",
    "my_tesla.battery.describe_battery()\n",
    "my_tesla.battery.get_range()\n",
    "'''"
   ]
  },
  {
   "cell_type": "code",
   "execution_count": null,
   "metadata": {},
   "outputs": [],
   "source": [
    "# Importing Multiple Classes from a Module\n",
    "\n",
    "#\"Create\" a \"file\" my_cars.py\n",
    "\n",
    "'''\n",
    "from car import Car, ElectricCar\n",
    "\n",
    "my_beetle = Car('volkswagen', 'beetle', 2019)\n",
    "print(my_beetle.get_descriptive_name())\n",
    "\n",
    "my_tesla = ElectricCar('tesla', 'roadster', 2019)\n",
    "print(my_tesla.get_descriptive_name())\n",
    "'''\n",
    "\n"
   ]
  },
  {
   "cell_type": "code",
   "execution_count": null,
   "metadata": {},
   "outputs": [],
   "source": [
    "#Importing an Entire Module\n",
    "\n",
    "#\"Create\" a \"file\" car.py\n",
    "\n",
    "'''\n",
    "import car\n",
    "\n",
    "my_beetle = car.Car('volkswagen', 'beetle', 2019)\n",
    "print(my_beetle.get_descriptive_name())\n",
    "\n",
    "my_tesla = car.ElectricCar('tesla', 'roadster', 2019)\n",
    "print(my_tesla.get_descriptive_name())\n",
    "'''\n"
   ]
  },
  {
   "cell_type": "code",
   "execution_count": null,
   "metadata": {},
   "outputs": [],
   "source": [
    "#Importing All Classes from a Module\n",
    "\n",
    "#You can import every class from a module using the following syntax:\n",
    "\n",
    "'''\n",
    "from module_name import *\n",
    "'''"
   ]
  },
  {
   "cell_type": "code",
   "execution_count": null,
   "metadata": {},
   "outputs": [],
   "source": [
    "#Importing a Module into a Module\n",
    "\n",
    "#if you want to spread out your classes over several modules to keep any one file from growing too large \n",
    "#and avoid storing unrelated classes in the same module. \n",
    "\n",
    "##File: electric_car.py\n",
    "'''\n",
    "   \"\"\"A set of classes that can be used to represent electric cars.\"\"\"\n",
    "\n",
    "from car import Car\n",
    "\n",
    "   class Battery:\n",
    "       --snip--\n",
    "\n",
    "   class ElectricCar(Car):\n",
    "       --snip--\n",
    "'''\n",
    "________________________________________________________________________________________________________________________________\n",
    "\n",
    "#File: car.py\n",
    "\n",
    "'''\n",
    "\"\"\"A class that can be used to represent a car.\"\"\"\n",
    "\n",
    "class Car:\n",
    "    --snip--\n",
    "'''\n",
    "________________________________________________________________________________________________________________________________\n",
    "\n",
    "#File: my_cars.py\n",
    "\n",
    "'''\n",
    "from car import Car\n",
    "from electric_car import ElectricCar\n",
    "\n",
    "   my_beetle = Car('volkswagen', 'beetle', 2019)\n",
    "   print(my_beetle.get_descriptive_name())\n",
    "\n",
    "   my_tesla = ElectricCar('tesla', 'roadster', 2019)\n",
    "   print(my_tesla.get_descriptive_name())\n",
    "'''"
   ]
  },
  {
   "cell_type": "code",
   "execution_count": null,
   "metadata": {},
   "outputs": [],
   "source": [
    "#Using Aliases\n",
    "\n",
    "#As you saw in Chapter 8, aliases can be quite helpful when using modules to organize your projects’ code. \n",
    "#You can use aliases when importing classes as well.\n",
    "\n",
    "'''\n",
    "from electric_car import ElectricCar as EC\n",
    "\n",
    "#Now you can use this alias whenever you want to make an electric car:\n",
    "\n",
    "my_tesla = EC('tesla', 'roadster', 2019)\n",
    "\n",
    "'''"
   ]
  },
  {
   "cell_type": "markdown",
   "metadata": {},
   "source": [
    "# EXERCISES"
   ]
  },
  {
   "cell_type": "code",
   "execution_count": 32,
   "metadata": {},
   "outputs": [
    {
     "ename": "ModuleNotFoundError",
     "evalue": "No module named 'restaurant'",
     "output_type": "error",
     "traceback": [
      "\u001b[1;31m---------------------------------------------------------------------------\u001b[0m",
      "\u001b[1;31mModuleNotFoundError\u001b[0m                       Traceback (most recent call last)",
      "\u001b[1;32m<ipython-input-32-892672c86cd0>\u001b[0m in \u001b[0;36m<module>\u001b[1;34m\u001b[0m\n\u001b[0;32m     36\u001b[0m \u001b[1;31m#my_restaurant.py:\u001b[0m\u001b[1;33m\u001b[0m\u001b[1;33m\u001b[0m\u001b[1;33m\u001b[0m\u001b[0m\n\u001b[0;32m     37\u001b[0m \u001b[1;33m\u001b[0m\u001b[0m\n\u001b[1;32m---> 38\u001b[1;33m \u001b[1;32mfrom\u001b[0m \u001b[0mrestaurant\u001b[0m \u001b[1;32mimport\u001b[0m \u001b[0mRestaurant\u001b[0m\u001b[1;33m\u001b[0m\u001b[1;33m\u001b[0m\u001b[0m\n\u001b[0m\u001b[0;32m     39\u001b[0m \u001b[1;33m\u001b[0m\u001b[0m\n\u001b[0;32m     40\u001b[0m \u001b[0mchannel_club\u001b[0m \u001b[1;33m=\u001b[0m \u001b[0mRestaurant\u001b[0m\u001b[1;33m(\u001b[0m\u001b[1;34m'the STAKHOUSE'\u001b[0m\u001b[1;33m,\u001b[0m \u001b[1;34m'steak'\u001b[0m\u001b[1;33m)\u001b[0m\u001b[1;33m\u001b[0m\u001b[1;33m\u001b[0m\u001b[0m\n",
      "\u001b[1;31mModuleNotFoundError\u001b[0m: No module named 'restaurant'"
     ]
    }
   ],
   "source": [
    "#9-10. Imported Restaurant: Using your latest Restaurant class, store it in a module. \n",
    "#Make a separate file that imports Restaurant. \n",
    "#Make a Restaurant instance, and call one of Restaurant’s methods to show that the import statement is working properly.\n",
    "\n",
    "#File: restaurant.py:\n",
    "\n",
    "\"\"\"A class representing a restaurant.\"\"\"\n",
    "\n",
    "class Restaurant():\n",
    "    \"\"\"A class representing a restaurant.\"\"\"\n",
    "\n",
    "    def __init__(self, name, cuisine_type):\n",
    "        \"\"\"Initialize the restaurant.\"\"\"\n",
    "        self.name = name.title()\n",
    "        self.cuisine_type = cuisine_type\n",
    "        self.number_served = 0\n",
    "\n",
    "    def describe_restaurant(self):\n",
    "        \"\"\"Display a summary of the restaurant.\"\"\"\n",
    "        msg = f\"{self.name} serves wonderful {self.cuisine_type}.\"\n",
    "        print(f\"\\n{msg}\")\n",
    "\n",
    "    def open_restaurant(self):\n",
    "        \"\"\"Display a message that the restaurant is open.\"\"\"\n",
    "        msg = f\"{self.name} is open. Come on in!\"\n",
    "        print(f\"\\n{msg}\")\n",
    "\n",
    "    def set_number_served(self, number_served):\n",
    "        \"\"\"Allow user to set the number of customers that have been served.\"\"\"\n",
    "        self.number_served = number_served\n",
    "\n",
    "    def increment_number_served(self, additional_served):\n",
    "        \"\"\"Allow user to increment the number of customers served.\"\"\"\n",
    "        self.number_served += additional_served\n",
    "________________________________________________________________________________________________________________________________\n",
    "\n",
    "#File: my_restaurant.py:\n",
    "\n",
    "from restaurant import Restaurant\n",
    "\n",
    "channel_club = Restaurant('the STAKHOUSE', 'steak')\n",
    "channel_club.describe_restaurant()\n",
    "channel_club.open_restaurant()"
   ]
  },
  {
   "cell_type": "code",
   "execution_count": null,
   "metadata": {},
   "outputs": [],
   "source": [
    "#9-11. Imported Admin: Start with your work from Exercise 9-8 (page 173). \n",
    "#Store the classes User, Privileges, and Admin in one module. \n",
    "#Create a separate file, make an Admin instance, and call show_privileges() to show that everything is working correctly.\n",
    "\n",
    "________________________________________________________________________________________________________________________________\n",
    "\n",
    "#File: user.py\n",
    "\n",
    "class User:\n",
    "    \"\"\"Represent a simple user profile.\"\"\"\n",
    "    \n",
    "    def __init__(self, first_name, last_name, username, email, location):\n",
    "        \"\"\"Build a dictionary containing everything we know about a user.\"\"\"\n",
    "        self.first_name = first_name\n",
    "        self.last_name = last_name\n",
    "        self.username = username\n",
    "        self.email = email\n",
    "        self.location = location\n",
    "        self.login_attempts = 0\n",
    "        \n",
    "    \n",
    "    def describe_user(self):\n",
    "        \"\"\"Display a summary of the user's information.\"\"\"\n",
    "        print(f'\\n{self.first_name} {self.last_name}')\n",
    "        print(f' Username: {self.username}')\n",
    "        print(f' Email: {self.email}')\n",
    "        print(f' Location: {self.location}')\n",
    "    \n",
    "    \n",
    "    def greet_user(self):\n",
    "        '''Show a greeting message'''\n",
    "        print(f' Hello, {self.first_name} {self.last_name}')\n",
    "        \n",
    "    def increment_login_attempts(self):\n",
    "        '''Add 1 to the login attempts'''\n",
    "        self.login_attempts += 1\n",
    "    \n",
    "    def reset_login_attempts(self):\n",
    "        '''Reset login attempts'''\n",
    "        self.login_attempts = 0\n",
    "\n",
    "class Admin(User):\n",
    "    \"\"\"A user with administrative privileges.\"\"\"\n",
    "    def __init__(self, first_name, last_name, username, email, location):\n",
    "        \"\"\"Initialize the admin.\"\"\"\n",
    "        super().__init__(first_name, last_name, username, email, location)\n",
    "        # Initialize an empty set of privileges.\n",
    "        self.privileges = Privileges()\n",
    "\n",
    "\n",
    "class Privileges:\n",
    "    \"\"\"A class to store an admin's privileges.\"\"\"\n",
    "    \n",
    "    def __init__(self, privileges=[]):\n",
    "        '''Inicialize Privileges'''\n",
    "        self.privileges = privileges\n",
    "        \n",
    "    def show_privileges(self):\n",
    "        \"\"\"Display the privileges this administrator has.\"\"\"\n",
    "        print(\"\\nPrivileges:\")\n",
    "        for privilege in self.privileges:\n",
    "            print(f\"- {privilege}\")\n",
    "\n",
    "________________________________________________________________________________________________________________________________\n",
    "\n",
    "#File: my_user.py\n",
    "\n",
    "\n",
    "from user import Admin\n",
    "\n",
    "wan = Admin('wanderson', 'torres', 'wan', 'wan@email.com', 'RJ')\n",
    "wan.describe_user\n",
    "\n",
    "#List of privileges for the Admin\n",
    "wan_privileges = ['can reset passwords','can moderate discussions','can suspend accounts']\n",
    "\n",
    "#Setting all the privileges\n",
    "wan.privileges.privileges = wan_privileges\n",
    "\n",
    "#Print all the privileges\n",
    "print(f\"\\nThe admin {eric.username} has these privileges: \")\n",
    "eric.privileges.show_privileges()"
   ]
  },
  {
   "cell_type": "code",
   "execution_count": null,
   "metadata": {},
   "outputs": [],
   "source": [
    "# 9-12. Multiple Modules: Store the User class in one module, and store the Privileges and Admin classes in a separate module. \n",
    "#In a separate file, create an Admin instance and call show_privileges() to show that everything is still working correctly.\n",
    "________________________________________________________________________________________________________________________________\n",
    "\n",
    "#File: user.py\n",
    "\n",
    "class User:\n",
    "    \"\"\"Represent a simple user profile.\"\"\"\n",
    "    \n",
    "    def __init__(self, first_name, last_name, username, email, location):\n",
    "        \"\"\"Build a dictionary containing everything we know about a user.\"\"\"\n",
    "        self.first_name = first_name\n",
    "        self.last_name = last_name\n",
    "        self.username = username\n",
    "        self.email = email\n",
    "        self.location = location\n",
    "        self.login_attempts = 0\n",
    "        \n",
    "    \n",
    "    def describe_user(self):\n",
    "        \"\"\"Display a summary of the user's information.\"\"\"\n",
    "        print(f'\\n{self.first_name} {self.last_name}')\n",
    "        print(f' Username: {self.username}')\n",
    "        print(f' Email: {self.email}')\n",
    "        print(f' Location: {self.location}')\n",
    "    \n",
    "    \n",
    "    def greet_user(self):\n",
    "        '''Show a greeting message'''\n",
    "        print(f' Hello, {self.first_name} {self.last_name}')\n",
    "        \n",
    "    def increment_login_attempts(self):\n",
    "        '''Add 1 to the login attempts'''\n",
    "        self.login_attempts += 1\n",
    "    \n",
    "    def reset_login_attempts(self):\n",
    "        '''Reset login attempts'''\n",
    "        self.login_attempts = 0\n",
    "        \n",
    "________________________________________________________________________________________________________________________________\n",
    "\n",
    "#File: admin.py\n",
    "\n",
    "\"\"\"A collection of classes for modeling an admin user account.\"\"\"\n",
    "\n",
    "from user import User\n",
    "\n",
    "class Admin(User):\n",
    "    \"\"\"A user with administrative privileges.\"\"\"\n",
    "    def __init__(self, first_name, last_name, username, email, location):\n",
    "        \"\"\"Initialize the admin.\"\"\"\n",
    "        super().__init__(first_name, last_name, username, email, location)\n",
    "        # Initialize an empty set of privileges.\n",
    "        self.privileges = Privileges()\n",
    "\n",
    "\n",
    "class Privileges:\n",
    "    \"\"\"A class to store an admin's privileges.\"\"\"\n",
    "    \n",
    "    def __init__(self, privileges=[]):\n",
    "        '''Inicialize Privileges'''\n",
    "        self.privileges = privileges\n",
    "        \n",
    "    def show_privileges(self):\n",
    "        \"\"\"Display the privileges this administrator has.\"\"\"\n",
    "        print(\"\\nPrivileges:\")\n",
    "        for privilege in self.privileges:\n",
    "            print(f\"- {privilege}\")\n",
    "________________________________________________________________________________________________________________________________\n",
    "\n",
    "#File: my_admin.py\n",
    "\n",
    "from admin import Admin\n",
    "\n",
    "wan = Admin('wanderson', 'torres', 'wan', 'wan@email.com', 'RJ')\n",
    "wan.describe_user\n",
    "\n",
    "#List of privileges for the Admin\n",
    "wan_privileges = ['can reset passwords','can moderate discussions','can suspend accounts']\n",
    "\n",
    "#Setting all the privileges\n",
    "wan.privileges.privileges = wan_privileges\n",
    "\n",
    "#Print all the privileges\n",
    "print(f\"\\nThe admin {eric.username} has these privileges: \")\n",
    "eric.privileges.show_privileges()"
   ]
  },
  {
   "cell_type": "markdown",
   "metadata": {},
   "source": [
    "# THE PYTHON STANDARD LIBRARY"
   ]
  },
  {
   "cell_type": "code",
   "execution_count": 36,
   "metadata": {},
   "outputs": [
    {
     "data": {
      "text/plain": [
       "'florence'"
      ]
     },
     "execution_count": 36,
     "metadata": {},
     "output_type": "execute_result"
    }
   ],
   "source": [
    "#The Python standard library is a set of modules included with every Python installation\n",
    "\n",
    "#Example1:\n",
    "#One interesting function from the random module is randint(). \n",
    "#This function takes two integer arguments and returns a randomly selected integer between (and including) those numbers.\n",
    "\n",
    "from random import randint\n",
    "randint(1, 6)\n",
    "\n",
    "#Example2:\n",
    "\n",
    "#Another useful function is choice(). \n",
    "#This function takes in a list or tuple and returns a randomly chosen element:\n",
    "\n",
    "from random import choice\n",
    "players = ['charles', 'martina', 'michael', 'florence', 'eli']\n",
    "first_up = choice(players)\n",
    "first_up\n"
   ]
  },
  {
   "cell_type": "markdown",
   "metadata": {},
   "source": [
    "# EXERCISES"
   ]
  },
  {
   "cell_type": "code",
   "execution_count": 48,
   "metadata": {},
   "outputs": [
    {
     "name": "stdout",
     "output_type": "stream",
     "text": [
      "10 rolls of 6-side die:\n",
      "[2, 6, 5, 2, 5, 4, 6, 5, 3, 4]\n",
      "10 rolls of 10-side die:\n",
      "[1, 2, 10, 10, 10, 5, 1, 1, 2, 10]\n",
      "10 rolls of 20-side die:\n",
      "[19, 16, 6, 17, 6, 16, 10, 18, 16, 9]\n"
     ]
    }
   ],
   "source": [
    "'''9-13. Dice: Make a class Die with one attribute called sides, which has a default value of 6. \n",
    "Write a method called roll_die() that prints a random number between 1 and the number of sides the die has. \n",
    "Make a 6-sided die and roll it 10 times.\n",
    "Make a 10-sided die and a 20-sided die. Roll each die 10 times.'''\n",
    "\n",
    "from random import randint\n",
    "\n",
    "\n",
    "class Die:\n",
    "    def __init__(self, sides=6):\n",
    "        \"\"\"Initialize the die.\"\"\"\n",
    "        self.sides = sides\n",
    "    \n",
    "    def roll_die(self):\n",
    "        return randint(1, self.sides)\n",
    "        \n",
    "#make a 6-side die and roll it 10 times\n",
    "\n",
    "d6 = Die()\n",
    "\n",
    "r6 = []\n",
    "for roll_num in range(10):\n",
    "    result = d6.roll_die()\n",
    "    r6.append(result)\n",
    "    \n",
    "print(\"10 rolls of 6-side die:\")\n",
    "print(r6)\n",
    "        \n",
    "d10 = Die(sides=10)\n",
    "r10=[]\n",
    "for roll in range(10):\n",
    "    result = d10.roll_die()\n",
    "    r10.append(result)\n",
    "\n",
    "print(\"10 rolls of 10-side die:\")\n",
    "print(r10)\n",
    "\n",
    "d20 = Die(sides=20)\n",
    "r20=[]\n",
    "for roll in range(10):\n",
    "    result = d20.roll_die()\n",
    "    r20.append(result)\n",
    "\n",
    "print(\"10 rolls of 20-side die:\")\n",
    "print(r20)"
   ]
  },
  {
   "cell_type": "code",
   "execution_count": 63,
   "metadata": {},
   "outputs": [
    {
     "name": "stdout",
     "output_type": "stream",
     "text": [
      "We pulled a 3\n",
      "We pulled a 6\n",
      "We pulled a F\n",
      "We pulled a K\n",
      "\n",
      "Any ticket matching these four numbers or letters wins a prize: [3, 6, 'F', 'K']\n"
     ]
    }
   ],
   "source": [
    "'''9-14. Lottery: Make a list or tuple containing a series of 10 numbers and five letters. \n",
    "Randomly select four numbers or letters from the list and \n",
    "print a message saying that any ticket matching these four numbers or letters wins a prize.'''\n",
    "\n",
    "from random import choice\n",
    "\n",
    "Lottery = [1,2,3,4,5,6,7,8,9,10,'A','B','C','D','E','F']\n",
    "\n",
    "Win_Ticket = []\n",
    "\n",
    "# I don't want to repeat winning numbers or letters, so we'll use a\n",
    "# while loop.\n",
    "\n",
    "for item in range(4):\n",
    "    item = choice(Lottery)\n",
    "    if item not in Win_Ticket:\n",
    "        print(f'We pulled a {item}')\n",
    "        Win_Ticket.append(item)\n",
    "\n",
    "print(f'\\nAny ticket matching these four numbers or letters wins a prize: {Win_Ticket}')\n"
   ]
  },
  {
   "cell_type": "code",
   "execution_count": 94,
   "metadata": {},
   "outputs": [
    {
     "name": "stdout",
     "output_type": "stream",
     "text": [
      "Tried 10000001 times, without pulling a winner. :(\n",
      "Your ticket: [3, 2, 'E', 'F']\n",
      "Winning ticket: [5, 'B', 6, 7]\n"
     ]
    }
   ],
   "source": [
    "'''9-15. Lottery Analysis: You can use a loop to see how hard it might be to win the kind of lottery you just modeled. \n",
    "Make a list or tuple called my_ticket. \n",
    "Write a loop that keeps pulling numbers until your ticket wins. \n",
    "Print a message reporting how many times the loop had to run to give you a winning ticket.'''\n",
    "\n",
    "from random import choice\n",
    "\n",
    "\n",
    "def get_win_ticket(Lottery):\n",
    "    \"\"\"Return a winning ticket from Lottery.\"\"\"\n",
    "    win_ticket = []\n",
    "    \n",
    "    # We don't want to repeat numbers or letters, so we'll use a while loop.\n",
    "    while len(win_ticket) < 4:\n",
    "        item = choice(Lottery)\n",
    "        if item not in Win_Ticket:\n",
    "            win_ticket.append(item)\n",
    "        \n",
    "    return win_ticket    \n",
    "\n",
    "def make_random_ticket(Lottery):\n",
    "    \"\"\"Return a random ticket from a set of possibilities.\"\"\"\n",
    "    ticket = []\n",
    "    \n",
    "    # We don't want to repeat numbers or letters, so we'll use a while loop.\n",
    "    while len(ticket) < 4:\n",
    "        number = choice(Lottery)\n",
    "        if number not in ticket:\n",
    "            ticket.append(number)\n",
    "    \n",
    "    return ticket\n",
    "\n",
    "def check_ticket(my_ticket, win_ticket):\n",
    "    # Check all elements in the played ticket. If any are not in the \n",
    "    #   winning ticket, return False.\n",
    "    for number in my_ticket:\n",
    "        if number not in win_ticket:\n",
    "            return False\n",
    "    return True \n",
    "\n",
    "#Check Point\n",
    "#print(get_win_ticket(Lottery))\n",
    "#print(make_random_ticket(Lottery))\n",
    "\n",
    "def set_max_attempts(att):\n",
    "    max_att = att\n",
    "    return max_att\n",
    "\n",
    "def tell_won(my_ticket, win_ticket, max_att):\n",
    "    \n",
    "    won = False\n",
    "    attempt=0\n",
    "    while not won:\n",
    "        won = check_ticket(my_ticket, win_ticket)\n",
    "        attempt +=1\n",
    "        if attempt > max_att:\n",
    "            break\n",
    "    if won:\n",
    "        print(\"We have a winning ticket!\")\n",
    "        print(f\"Your ticket: {new_ticket}\")\n",
    "        print(f\"Winning ticket: {win_ticket}\")\n",
    "        print(f\"It tooks {attempt} tries to win!\")\n",
    "    else:\n",
    "        print(f\"Tried {attempt} times, without pulling a winner. :(\")\n",
    "        print(f\"Your ticket: {new_ticket}\")\n",
    "        print(f\"Winning ticket: {win_ticket}\")\n",
    "        \n",
    "        \n",
    "        \n",
    "#Create the tickets\n",
    "Lottery = [1,2,3,4,5,6,7,8,9,10,'A','B','C','D','E','F']\n",
    "win_ticket = get_win_ticket(Lottery)\n",
    "new_ticket = make_random_ticket(Lottery)\n",
    "\n",
    "#Set a max number of attempts \n",
    "\n",
    "max_att = set_max_attempts(10000000)\n",
    "\n",
    "#Find the number of attemps to win\n",
    "tell_won(new_ticket, win_ticket, max_att)\n",
    "\n"
   ]
  },
  {
   "cell_type": "code",
   "execution_count": 69,
   "metadata": {},
   "outputs": [
    {
     "data": {
      "text/plain": [
       "True"
      ]
     },
     "execution_count": 69,
     "metadata": {},
     "output_type": "execute_result"
    }
   ],
   "source": []
  },
  {
   "cell_type": "code",
   "execution_count": null,
   "metadata": {},
   "outputs": [],
   "source": []
  }
 ],
 "metadata": {
  "kernelspec": {
   "display_name": "Python 3",
   "language": "python",
   "name": "python3"
  }
 },
 "nbformat": 4,
 "nbformat_minor": 4
}
